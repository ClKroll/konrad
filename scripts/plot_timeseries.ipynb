{
 "cells": [
  {
   "cell_type": "code",
   "execution_count": null,
   "metadata": {

    "collapsed": true,
    "deletable": true,
    "editable": true
   },
   "outputs": [],
   "source": [
    "%matplotlib inline\n",
    "import matplotlib.pyplot as plt\n",
    "from matplotlib.ticker import FuncFormatter\n",
    "import numpy as np\n",
    "from netCDF4 import Dataset\n",
    "\n",
    "\n",
    "plt.style.use(typhon.plots.styles('typhon'))\n",
    "\n",
    "@FuncFormatter\n",
    "def pres_formatter(x, pos):\n",
    "    return '{:.1f}'.format(x / 1e2)\n",
    "\n",
    "\n",
    "def profile_p(p, x, ax=None, **kwargs):\n",
    "    \"\"\"Plot atmospheric profile of arbitrary property.\n",
    "    \n",
    "    Parameters:\n",
    "        p (ndarray): Pressure [Pa].\n",
    "        x (ndarray): Atmospheric property.\n",
    "        ax (AxesSubplot): Axes to plot in.\n",
    "        **kwargs: Additional keyword arguments passed to `plt.plot`.\n",
    "    \"\"\"\n",
    "    if ax is None:\n",
    "        ax = plt.gca()\n",
    "        \n",
    "    # Determine min/max pressure of **all** data in plot.\n",
    "    pmin = np.min((p.min(), *ax.get_ylim()))\n",
    "    pmax = np.max((p.max(), *ax.get_ylim()))\n",
    "    ax.set_ylim(pmax, pmin)  # implicitly invert yaxis\n",
    "    \n",
    "    # Only plot bottom and left spines.\n",
    "    ax.spines['right'].set_visible(False)\n",
    "    ax.spines['top'].set_visible(False)\n",
    "        \n",
    "    # Label and format for yaxis.\n",
    "    ax.yaxis.set_major_formatter(pres_formatter)\n",
    "    if ax.is_first_col():\n",
    "        ax.set_ylabel('Pressure [hPa]')\n",
    "    \n",
    "    # Actual plot.\n",
    "    return ax.plot(x, p, **kwargs)\n",
    "\n",
    "\n",
    "def profile_z(z, x, ax=None, **kwargs):\n",
    "    \"\"\"Plot atmospheric profile of arbitrary property.\n",
    "    \n",
    "    Parameters:\n",
    "        z (ndarray): Height [m].\n",
    "        x (ndarray): Atmospheric property.\n",
    "        ax (AxesSubplot): Axes to plot in.\n",
    "        **kwargs: Additional keyword arguments passed to `plt.plot`.\n",
    "    \"\"\"\n",
    "    if ax is None:\n",
    "        ax = plt.gca()\n",
    "        \n",
    "    # Determine min/max pressure of **all** data in plot.\n",
    "    zmin = np.min((z.min(), *ax.get_ylim()))\n",
    "    zmax = np.max((z.max(), *ax.get_ylim()))\n",
    "    ax.set_ylim(zmin, zmax)\n",
    "    \n",
    "    # Only plot bottom and left spines.\n",
    "    ax.spines['right'].set_visible(False)\n",
    "    ax.spines['top'].set_visible(False)\n",
    "        \n",
    "    # Label and format for yaxis.\n",
    "    if ax.is_first_col():\n",
    "        ax.set_ylabel('Height [km]')\n",
    "    \n",
    "    # Actual plot.\n",
    "    return ax.plot(x, z / 1e3, **kwargs)\n",
    "\n",
    "fascod_seasons = [\n",
    "    'tropical',\n",
    "    'midlatitude-summer',\n",
    "    'midlatitude-winter',\n",
    "    'subarctic-summer',\n",
    "    'subarctic-winter',\n",
    "]"
   ]
  },
  {
   "cell_type": "markdown",
   "metadata": {
    "deletable": true,
    "editable": true
   },
   "source": [
    "# Simple timeseries"
   ]
  },
  {
   "cell_type": "code",
   "execution_count": null,
   "metadata": {

    "collapsed": false,
    "deletable": true,
    "editable": true,
    "scrolled": false
   },
   "outputs": [],
   "source": [
    "for season in fascod_seasons:\n",
    "    data = Dataset('results/{}.nc'.format(season))\n",
    "\n",
    "    fig, ax = plt.subplots()\n",
    "    sm = ax.pcolormesh(\n",
    "        data.variables['time'][:] / 24,\n",
    "        data.variables['plev'][:],\n",
    "        data.variables['T'][:].T,\n",
    "        cmap=plt.get_cmap('temperature', 20),\n",
    "        rasterized=True,\n",
    "        vmin=140,\n",
    "        vmax=310,\n",
    "    )\n",
    "    fig.colorbar(sm, label='Temperature [K]')\n",
    "    ax.invert_yaxis()\n",
    "    ax.set_yscale('log')\n",
    "    ax.set_ylim(1100e2, 10)\n",
    "    ax.yaxis.set_major_formatter(pres_formatter)\n",
    "    ax.set_title('FASCOD {}'.format(season))\n",
    "    ax.set_xlabel('Days')\n",
    "    ax.set_ylabel('Pressure [hPa]')\n",
    "    fig.savefig('plots/{}.pdf'.format(season))"
   ]
  },
  {
   "cell_type": "markdown",
   "metadata": {
    "deletable": true,
    "editable": true
   },
   "source": [
    "# Timeseries animation"
   ]
  },
  {
   "cell_type": "code",
   "execution_count": null,
   "metadata": {

    "collapsed": false,
    "deletable": true,
    "editable": true,
    "scrolled": false
   },
   "outputs": [],
   "source": [
    "season = 'tropical'\n",
    "\n",
    "vmin = 140\n",
    "vmax = 310\n",
    "\n",
    "\n",
    "for season in fascod_seasons:\n",
    "    data = Dataset('results/{}.nc'.format(season))\n",
    "    time = data.variables['time'][:] / 24\n",
    "    p = data.variables['plev'][:]\n",
    "    T = data.variables['T'][:].T\n",
    "    \n",
    "    for t in range(1, time.size, 1):\n",
    "        fig, [ax2, ax1] = plt.subplots(1, 2, sharey=True, figsize=(16, 8), gridspec_kw={'width_ratios':[1, 3]})\n",
    "        sm = ax1.pcolormesh(\n",
    "            time[0:t+1],\n",
    "            p,\n",
    "            T[:, 0:t+1],\n",
    "            cmap=plt.get_cmap('temperature', 10),\n",
    "            rasterized=True,\n",
    "            vmin=vmin,\n",
    "            vmax=vmax,\n",
    "        )\n",
    "        fig.colorbar(sm, label='Temperature [K]', ax=ax1)\n",
    "        sm = ax1.pcolormesh(\n",
    "            time[t:],\n",
    "            p,\n",
    "            T[:, t:],\n",
    "            cmap=plt.get_cmap('Greys_r', 10),\n",
    "            rasterized=True,\n",
    "            vmin=vmin,\n",
    "            vmax=vmax,\n",
    "        )\n",
    "        ax1.axvline(t)\n",
    "        ax1.invert_yaxis()\n",
    "        ax1.yaxis.set_major_formatter(pres_formatter)\n",
    "        fig.suptitle('FASCOD {}'.format(season))\n",
    "        ax1.set_xlabel('Days')\n",
    "\n",
    "        # temperature sounding\n",
    "        profile_p(p, T[:, t], ax=ax2)\n",
    "        ax2.set_yscale('log')\n",
    "        ax2.set_ylim(1100e2, 10)\n",
    "        ax2.yaxis.set_major_formatter(pres_formatter)\n",
    "        ax2.set_xlim(vmin, vmax)\n",
    "        ax2.set_xlabel('Temperature [K]')\n",
    "        fig.savefig('plots/animation/{}_{:04d}.png'.format(season, t), dpi=300)\n",
    "        plt.close(fig)"
   ]
  }
 ],
 "metadata": {
  "kernelspec": {
   "display_name": "Python 3",
   "language": "python",
   "name": "python3"
  },
  "language_info": {
   "codemirror_mode": {
    "name": "ipython",
    "version": 3
   },
   "file_extension": ".py",
   "mimetype": "text/x-python",
   "name": "python",
   "nbconvert_exporter": "python",
   "pygments_lexer": "ipython3",
   "version": "3.6.1"
  },
  "toc": {
   "toc_cell": false,
   "toc_number_sections": true,
   "toc_threshold": 6,
   "toc_window_display": false
  }
 },
 "nbformat": 4,
 "nbformat_minor": 2
}
