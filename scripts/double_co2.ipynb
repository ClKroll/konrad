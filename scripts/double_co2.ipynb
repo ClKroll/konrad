{
 "cells": [
  {
   "cell_type": "markdown",
   "metadata": {},
   "source": [
    "# Imports and function definitions"
   ]
  },
  {
   "cell_type": "code",
   "execution_count": null,
   "metadata": {

    "collapsed": true
   },
   "outputs": [],
   "source": [
    "%matplotlib inline\n",
    "from os.path import basename, splitext\n",
    "import glob\n",
    "import re\n",
    "\n",
    "import numpy as np\n",
    "import matplotlib.pyplot as plt\n",
    "import typhon.plots\n",
    "from netCDF4 import Dataset\n",
    "\n",
    "\n",
    "plt.style.use(typhon.plots.styles('typhon'))\n",
    "\n",
    "\n",
    "def extract_scale(filename):\n",
    "    \"\"\"Extract the CO2 increase from filename.\n",
    "    \n",
    "    Parameters:\n",
    "        filename (str): Path to netCDF file.\n",
    "        \n",
    "    Returns:\n",
    "        str: CO2 factor.\n",
    "        \n",
    "    Examples:\n",
    "        >>> extract_scale('results/tropical_co2_x0.5-conv_fVMR.nc')\n",
    "        '0.5'\n",
    "    \"\"\"\n",
    "    pattern = re.compile('.*co2_x(.*)-.*\\.nc')  \n",
    "    matches = pattern.match(filename)\n",
    "\n",
    "    if matches:\n",
    "        return matches.group(1)\n",
    "    else:\n",
    "        return filename\n",
    "    \n",
    "    \n",
    "def running_mean(x, N):\n",
    "    \"\"\"Calculate a running mean over a given data array.\n",
    "    \n",
    "    Paramters:\n",
    "        x (ndarray): Data array.\n",
    "        N (int): Window size.\n",
    "    \n",
    "    Return:\n",
    "        ndarray: Running mean.\n",
    "    \"\"\"\n",
    "    cumsum = np.cumsum(np.insert(x, 0, 0)) \n",
    "    return (cumsum[N:] - cumsum[:-N]) / N \n",
    "\n",
    "\n",
    "def calculate_toa(data):\n",
    "    \"\"\"Calculate radiation budget at top of the atmosphere (TOA).\n",
    "    \n",
    "    Parameters:\n",
    "        data (dict): Dictionary containing short- and longwave fluxes.\n",
    "        \n",
    "    Returns:\n",
    "        ndarray: Radiation budget at TOA.\n",
    "    \"\"\"\n",
    "    lw_flxu = data.variables['lw_flxu'][:, -1]\n",
    "    lw_flxd = data.variables['lw_flxd'][:, -1]\n",
    "    sw_flxu = data.variables['sw_flxu'][:, -1]\n",
    "    sw_flxd = data.variables['sw_flxd'][:, -1]\n",
    "    return ((sw_flxd + lw_flxd) - (sw_flxu + lw_flxu))"
   ]
  },
  {
   "cell_type": "markdown",
   "metadata": {},
   "source": [
    "# Surface temperature and radiation budget"
   ]
  },
  {
   "cell_type": "code",
   "execution_count": null,
   "metadata": {
    "ExecuteTime": {
     "end_time": "2017-07-28T11:11:39.823484Z",
     "start_time": "2017-07-28T11:11:18.814494Z"
    }
   },
   "outputs": [],
   "source": [
    "season = 'tropical'\n",
    "scenarios = sorted(\n",
    "    glob.glob(f'results/diurnalcycle/{season}_co2_x*-diurnalcycle.nc'),\n",
    "    reverse=True,\n",
    ")\n",
    "\n",
    "fig, [ax, ax2] = plt.subplots(nrows=2, sharex=True)\n",
    "fig.suptitle('FASCOD {season}'.format(season=season.capitalize()))\n",
    "for scenario in scenarios:\n",
    "    data = Dataset(scenario)\n",
    "    print(f'Read {scenario}...')\n",
    "    time = data.variables['time'][:] / 24  # time in days\n",
    "    \n",
    "    # Read and plot surface temperatures.\n",
    "    Ts = data.variables['temperature'][:]\n",
    "    ax.plot(\n",
    "        time, Ts,\n",
    "        label=r'$CO_2 \\times {}$'.format(extract_scale(scenario)),\n",
    "        linewidth=3,\n",
    "    )\n",
    "    \n",
    "    # Calculate and plot radiation budget at top of the atmosphere.\n",
    "    toa = calculate_toa(data)\n",
    "    ax2.plot(\n",
    "        time, toa,\n",
    "        linewidth=3,\n",
    "    )\n",
    "    \n",
    "ax.grid('on')\n",
    "ax2.grid('on')\n",
    "ax.legend(loc='upper left', bbox_to_anchor=(1, 1))\n",
    "ax2.set_xlabel('Day')\n",
    "ax.set_xlim(left=0)\n",
    "ax.set_ylabel('$T_s$ [K]')\n",
    "ax2.set_ylabel('TOA [$Wm^{-2}$]')\n",
    "# fig.savefig('plots/t_surface_double_co2_{season}_diurnalcycle_convective.pdf'.format(season=season))"
   ]
  },
  {
   "cell_type": "markdown",
   "metadata": {},
   "source": [
    "## Running mean over radiation budget"
   ]
  },
  {
   "cell_type": "code",
   "execution_count": null,
   "metadata": {
    "ExecuteTime": {
     "end_time": "2017-07-28T11:11:49.083043Z",
     "start_time": "2017-07-28T11:11:39.825580Z"
    }
   },
   "outputs": [],
   "source": [
    "average_window = 100*8\n",
    "\n",
    "fig, ax = plt.subplots()\n",
    "for scenario in scenarios:\n",
    "    data = Dataset(scenario)\n",
    "    ax.plot(\n",
    "        time[:-average_window+1],\n",
    "        running_mean(calculate_toa(data), average_window),\n",
    "        linewidth=3,\n",
    "        label=r'$CO_2 \\times {}$'.format(extract_scale(scenario)),\n",
    "    )\n",
    "ax.legend()\n",
    "ax.grid(True)\n",
    "ax.set_xlim(left=0)\n",
    "ax.set_xlabel('Day')\n",
    "ax.set_ylabel('TOA [$Wm^{-2}$]')\n",
    "# fig.savefig('plots/toa_runningmean_double_co2_{season}_diurnalcycle_convective.pdf'.format(season=season))"
   ]
  },
  {
   "cell_type": "markdown",
   "metadata": {
    "ExecuteTime": {
     "end_time": "2017-07-28T11:10:21.627881Z",
     "start_time": "2017-07-28T11:10:21.599323Z"
    }
   },
   "source": [
    "# Plot equilibrium temperature profiles"
   ]
  },
  {
   "cell_type": "code",
   "execution_count": null,
   "metadata": {
    "ExecuteTime": {
     "end_time": "2017-07-28T11:11:50.277205Z",
     "start_time": "2017-07-28T11:11:49.085117Z"
    }
   },
   "outputs": [],
   "source": [
    "fig, ax = plt.subplots(figsize=typhon.plots.figsize(6, portrait=True))\n",
    "for scenario in scenarios:\n",
    "    data = Dataset(scenario)\n",
    "    p = data.variables['plev'][:]\n",
    "    T = data.variables['T'][-1, :]\n",
    "    ci = np.argmin(T)\n",
    "    \n",
    "    l = typhon.plots.profile_p_log(\n",
    "        p, T,\n",
    "        label=r'$CO_2 \\times {}$'.format(extract_scale(scenario)),\n",
    "        linewidth=3,\n",
    "        )\n",
    "    ax.axhline(p[ci], linestyle='dotted', color=l[0].get_color(), alpha=0.3)\n",
    "    \n",
    "ax.set_title('FASCOD {season}'.format(season=season.capitalize()))\n",
    "ax.grid('on')\n",
    "ax.legend(loc='upper left', bbox_to_anchor=(1, 1))\n",
    "ax.set_xlabel('Temperature [K]')\n",
    "ax.set_ylim(top=p.min(), bottom=p.max())\n",
    "ax.set_xlim(left=180, right=320)\n",
    "# fig.savefig('plots/t_profile_double_co2_{season}_diurnalcycle_convective.pdf'.format(season=season))"
   ]
  },
  {
   "cell_type": "markdown",
   "metadata": {},
   "source": [
    "# Plot changes in water vapor mixing ratios"
   ]
  },
  {
   "cell_type": "code",
   "execution_count": null,
   "metadata": {
    "ExecuteTime": {
     "end_time": "2017-07-28T11:11:55.108601Z",
     "start_time": "2017-07-28T11:11:50.279310Z"
    }
   },
   "outputs": [],
   "source": [
    "scenario = scenarios[-1]\n",
    "\n",
    "fig, ax = plt.subplots()\n",
    "scale = extract_scale(scenario)\n",
    "fig.suptitle(rf'FASCOD {season.capitalize()} | ${scale} \\times CO_2$')\n",
    "data = Dataset(scenario)\n",
    "time = data.variables['time'][:] / 24  # time in days\n",
    "\n",
    "# Calculate relative humidity.\n",
    "q = data.variables['H2O'][:]\n",
    "p = data.variables['plev'][:]\n",
    "T = data.variables['T'][:]\n",
    "RH = 100* typhon.atmosphere.relative_humidity(q, p, T)\n",
    "\n",
    "sm = ax.pcolormesh(\n",
    "    time, p, RH.T,\n",
    "    cmap=plt.get_cmap('density', 10),\n",
    "    rasterized=True,\n",
    "    vmin=0,\n",
    "    vmax=100,\n",
    ")\n",
    "cb = fig.colorbar(sm, label='Relative humidity [%]')\n",
    "cb.set_ticks(np.arange(0, 101, 10))\n",
    "ax.invert_yaxis()\n",
    "ax.set_yscale('log')\n",
    "ax.set_ylabel('Pressure [hPa]')\n",
    "ax.set_ylim(p.max(), p.min())\n",
    "ax.set_xlabel('Days')\n",
    "ax.yaxis.set_major_formatter(typhon.plots.HectoPascalLogFormatter())\n",
    "ax.yaxis.set_minor_formatter(typhon.plots.HectoPascalLogFormatter())\n",
    "\n",
    "\n",
    "fig, ax = plt.subplots(figsize=(4, 6))\n",
    "for scenario in scenarios:\n",
    "    typhon.plots.profile_p_log(\n",
    "        p, np.std(RH, axis=0),\n",
    "        linewidth=3,\n",
    "        label=r'$CO_2 \\times {}$'.format(extract_scale(scenario)),\n",
    "        )\n",
    "ax.legend()\n",
    "ax.grid('on')\n",
    "ax.set_xlim(left=-0.01, right=0.15)\n",
    "ax.set_ylim(p.max(), p.min())"
   ]
  }
 ],
 "metadata": {
  "kernelspec": {
   "display_name": "Python 3",
   "language": "python",
   "name": "python3"
  },
  "language_info": {
   "codemirror_mode": {
    "name": "ipython",
    "version": 3
   },
   "file_extension": ".py",
   "mimetype": "text/x-python",
   "name": "python",
   "nbconvert_exporter": "python",
   "pygments_lexer": "ipython3",
   "version": "3.6.1"
  },
  "toc": {
   "toc_cell": false,
   "toc_number_sections": true,
   "toc_threshold": 6,
   "toc_window_display": false
  }
 },
 "nbformat": 4,
 "nbformat_minor": 2
}
