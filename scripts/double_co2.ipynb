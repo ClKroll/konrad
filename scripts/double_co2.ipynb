{
 "cells": [
  {
   "cell_type": "markdown",
   "metadata": {},
   "source": [
    "# Imports and function definitions"
   ]
  },
  {
   "cell_type": "code",
   "execution_count": null,
   "metadata": {

    "collapsed": true
   },
   "outputs": [],
   "source": [
    "%matplotlib inline\n",
    "import glob\n",
    "import re\n",
    "from os.path import basename, splitext, join\n",
    "from functools import partial\n",
    "\n",
    "import numpy as np\n",
    "import matplotlib.pyplot as plt\n",
    "import typhon.plots\n",
    "from netCDF4 import Dataset\n",
    "\n",
    "os.environ['PSRAD_PATH'] = '/scratch/uni/u237/users/lkluft/icon-aes/psrad/'\n",
    "import conrad\n",
    "\n",
    "\n",
    "plt.style.use(typhon.plots.styles('typhon'))\n",
    "\n",
    "\n",
    "def get_legend_label(filename, label=r'$CO_2 \\times {placeholder}$', **kwargs):\n",
    "    \"\"\"Get label for legend entry.\"\"\"\n",
    "    finfo = conrad.utils.extract_metadata(filename)\n",
    "    \n",
    "    if 'layer' in finfo.experiment:\n",
    "        label = f'{finfo.scale:>5} layers'\n",
    "    elif 'co2' in finfo.experiment:\n",
    "        label = rf'$CO_2 \\times {finfo.scale}$'\n",
    "    \n",
    "    return label\n",
    "    \n",
    "    \n",
    "def running_mean(x, N):\n",
    "    \"\"\"Calculate a running mean over a given data array.\n",
    "    \n",
    "    Paramters:\n",
    "        x (ndarray): Data array.\n",
    "        N (int): Window size.\n",
    "    \n",
    "    Return:\n",
    "        ndarray: Running mean.\n",
    "    \"\"\"\n",
    "    cumsum = np.cumsum(np.insert(x, 0, 0)) \n",
    "    return (cumsum[N:] - cumsum[:-N]) / N \n",
    "\n",
    "\n",
    "def calculate_toa(data):\n",
    "    \"\"\"Calculate radiation budget at top of the atmosphere (TOA).\n",
    "    \n",
    "    Parameters:\n",
    "        data (dict): Dictionary containing short- and longwave fluxes.\n",
    "        \n",
    "    Returns:\n",
    "        ndarray: Radiation budget at TOA.\n",
    "    \"\"\"\n",
    "    lw_flxu = data.variables['lw_flxu'][:, -1]\n",
    "    lw_flxd = data.variables['lw_flxd'][:, -1]\n",
    "    sw_flxu = data.variables['sw_flxu'][:, -1]\n",
    "    sw_flxd = data.variables['sw_flxd'][:, -1]\n",
    "    return ((sw_flxd + lw_flxd) - (sw_flxu + lw_flxu))"
   ]
  },
  {
   "cell_type": "markdown",
   "metadata": {},
   "source": [
    "# Surface temperature and radiation budget"
   ]
  },
  {
   "cell_type": "code",
   "execution_count": null,
   "metadata": {
    "ExecuteTime": {
     "end_time": "2017-08-08T13:00:02.554151Z",
     "start_time": "2017-08-08T12:59:55.390096Z"
    }
   },
   "outputs": [],
   "source": [
    "result_dir = 'results/'\n",
    "season = 'tropical'\n",
    "experiment = 'test-co2'\n",
    "extra = ''\n",
    "plot_dir = 'plots/'\n",
    "\n",
    "scenarios = sorted(\n",
    "    glob.glob(join(result_dir, f'{season}_{experiment}_*{extra}.nc')),\n",
    "    key=lambda fname: float(conrad.utils.extract_metadata(fname).scale),\n",
    "    reverse=True,\n",
    ")\n",
    "scenarios = [f for f in scenarios if not '_fast' in f]\n",
    "\n",
    "if len(scenarios) == 0:\n",
    "    raise Exception('No input files found. Probably screwed glob pattern.')\n",
    "\n",
    "fig, [ax, ax2] = plt.subplots(nrows=2, sharex=True)\n",
    "fig.suptitle('FASCOD {season}'.format(season=season.capitalize()))\n",
    "for scenario in scenarios:\n",
    "    data = Dataset(scenario)\n",
    "    print(f'Read {scenario}...')\n",
    "    time = data.variables['time'][:] / 24  # time in days\n",
    "    \n",
    "    # Read and plot surface temperatures.\n",
    "    Ts = data.variables['temperature'][:]\n",
    "    ax.plot(\n",
    "        time, Ts,\n",
    "        label=get_legend_label(scenario),\n",
    "        linewidth=3,\n",
    "    )\n",
    "    \n",
    "    # Calculate and plot radiation budget at top of the atmosphere.\n",
    "    toa = calculate_toa(data)\n",
    "    ax2.plot(\n",
    "        time, toa,\n",
    "        linewidth=3,\n",
    "    )\n",
    "    \n",
    "ax.grid('on')\n",
    "ax2.grid('on')\n",
    "ax.legend(loc='upper left', bbox_to_anchor=(1, 1))\n",
    "ax2.set_xlabel('Day')\n",
    "ax.set_xlim(left=0)\n",
    "ax.set_ylabel('$T_s$ [K]')\n",
    "ax2.set_ylabel('TOA [$Wm^{-2}$]')\n",
    "# ax2.set_ylim(-1, 5)\n",
    "# ax.set_ylim(309, 311)\n",
    "fig.savefig(join(plot_dir, f'{season}_{experiment}_t_surface.pdf'))"
   ]
  },
  {
   "cell_type": "markdown",
   "metadata": {},
   "source": [
    "## Running mean over radiation budget"
   ]
  },
  {
   "cell_type": "code",
   "execution_count": null,
   "metadata": {
    "ExecuteTime": {
     "end_time": "2017-08-08T13:00:04.760430Z",
     "start_time": "2017-08-08T13:00:02.556033Z"
    }
   },
   "outputs": [],
   "source": [
    "average_window = 10*8\n",
    "\n",
    "fig, ax = plt.subplots()\n",
    "for scenario in scenarios:\n",
    "    data = Dataset(scenario)\n",
    "    ax.plot(\n",
    "        # time[:-average_window+1],\n",
    "        running_mean(calculate_toa(data), average_window),\n",
    "        linewidth=3,\n",
    "        label=get_legend_label(scenario),\n",
    "    )\n",
    "ax.legend()\n",
    "ax.grid(True)\n",
    "ax.set_xlim(left=0)\n",
    "# ax.set_xlabel('Day')\n",
    "ax.set_ylabel('TOA [$Wm^{-2}$]')\n",
    "fig.savefig(join(plot_dir, f'{season}_{experiment}_toa_runningmean.pdf'))"
   ]
  },
  {
   "cell_type": "markdown",
   "metadata": {
    "ExecuteTime": {
     "end_time": "2017-07-28T11:10:21.627881Z",
     "start_time": "2017-07-28T11:10:21.599323Z"
    }
   },
   "source": [
    "# Plot equilibrium temperature profiles"
   ]
  },
  {
   "cell_type": "markdown",
   "metadata": {
    "ExecuteTime": {
     "end_time": "2017-08-03T13:18:10.082490Z",
     "start_time": "2017-08-03T13:18:10.045586Z"
    }
   },
   "source": [
    "## Pressure coordinates"
   ]
  },
  {
   "cell_type": "code",
   "execution_count": null,
   "metadata": {
    "ExecuteTime": {
     "end_time": "2017-08-08T13:00:06.357882Z",
     "start_time": "2017-08-08T13:00:04.762329Z"
    }
   },
   "outputs": [],
   "source": [
    "fig, ax = plt.subplots(figsize=typhon.plots.figsize(6, portrait=True))\n",
    "for scenario in scenarios:\n",
    "    data = Dataset(scenario)\n",
    "    p = data.variables['plev'][:]\n",
    "    T = data.variables['T'][-1, :]\n",
    "    ci = np.argmin(T[p>10e2])\n",
    "    \n",
    "    l = typhon.plots.profile_p_log(\n",
    "        p, T,\n",
    "        label=get_legend_label(scenario),\n",
    "        linewidth=3,\n",
    "        )\n",
    "    ax.axhline(p[ci], linestyle='dotted', color=l[0].get_color(), alpha=0.3)\n",
    "    \n",
    "ax.set_title(f'FASCOD {season.capitalize()}')\n",
    "ax.grid('on')\n",
    "ax.legend(loc='upper left', bbox_to_anchor=(1, 1))\n",
    "ax.set_xlabel('Temperature [K]')\n",
    "ax.set_ylim(top=p.min(), bottom=p.max())\n",
    "# ax.set_ylim(top=p.min(), bottom=p.max())\n",
    "ax.set_xlim(left=180, right=340)\n",
    "fig.savefig(join(plot_dir, f'{season}_{experiment}_t_profile.pdf'))"
   ]
  },
  {
   "cell_type": "markdown",
   "metadata": {},
   "source": [
    "## Geopotential coordinates"
   ]
  },
  {
   "cell_type": "code",
   "execution_count": null,
   "metadata": {
    "ExecuteTime": {
     "end_time": "2017-08-08T13:00:08.202576Z",
     "start_time": "2017-08-08T13:00:06.359743Z"
    }
   },
   "outputs": [],
   "source": [
    "fig, ax = plt.subplots(figsize=typhon.plots.figsize(6, portrait=True))\n",
    "for scenario in scenarios:\n",
    "    data = Dataset(scenario)\n",
    "    z = np.array(data.variables['z'])[-1, :]\n",
    "    T = data.variables['T'][-1, :]\n",
    "    ci = np.argmin(T[z<50e3])\n",
    "    \n",
    "    l = typhon.plots.profile_z(\n",
    "        z, T,\n",
    "        label=get_legend_label(scenario),\n",
    "        linewidth=3,\n",
    "        )\n",
    "    ax.axhline(z[ci]/1e3, linestyle='dotted', color=l[0].get_color(), alpha=0.3)\n",
    "    \n",
    "ax.set_title(f'FASCOD {season.capitalize()}')\n",
    "ax.grid('on')\n",
    "ax.legend(loc='upper left', bbox_to_anchor=(1, 1))\n",
    "ax.set_xlabel('Temperature [K]')\n",
    "ax.set_ylim(bottom=z.min()/1e3, top=z.max()/1e3)\n",
    "# ax.set_ylim(top=p.min(), bottom=p.max())\n",
    "ax.set_xlim(left=180, right=340)\n",
    "fig.savefig(join(plot_dir, f'{season}_{experiment}_t_profile_z.pdf'))"
   ]
  },
  {
   "cell_type": "markdown",
   "metadata": {},
   "source": [
    "# Plot changes in water vapor mixing ratios"
   ]
  },
  {
   "cell_type": "code",
   "execution_count": null,
   "metadata": {
    "ExecuteTime": {
     "end_time": "2017-08-08T13:00:10.603047Z",
     "start_time": "2017-08-08T13:00:08.205269Z"
    }
   },
   "outputs": [],
   "source": [
    "scenario = scenarios[0]\n",
    "\n",
    "fig, ax = plt.subplots()\n",
    "scale = conrad.utils.extract_metadata(scenario).scale\n",
    "fig.suptitle(rf'FASCOD {season.capitalize()} | {get_legend_label(scenario)}')\n",
    "data = Dataset(scenario)\n",
    "time = data.variables['time'][:] / 24  # time in days\n",
    "\n",
    "# Calculate relative humidity.\n",
    "q = data.variables['H2O'][:]\n",
    "p = data.variables['plev'][:]\n",
    "T = data.variables['T'][:]\n",
    "RH = 100* typhon.atmosphere.relative_humidity(q, p, T)\n",
    "\n",
    "sm = ax.pcolormesh(\n",
    "    time, p, RH.T,\n",
    "    cmap=plt.get_cmap('Blues', 10),\n",
    "    rasterized=True,\n",
    "    vmin=0,\n",
    "    vmax=100,\n",
    ")\n",
    "cb = fig.colorbar(sm, label='Relative humidity [%]')\n",
    "cb.set_ticks(np.arange(0, 101, 10))\n",
    "ax.invert_yaxis()\n",
    "ax.set_yscale('log')\n",
    "ax.set_ylabel('Pressure [hPa]')\n",
    "ax.set_ylim(p.max(), p.min())\n",
    "ax.set_xlabel('Days')\n",
    "ax.yaxis.set_major_formatter(typhon.plots.HectoPascalLogFormatter())\n",
    "ax.yaxis.set_minor_formatter(typhon.plots.HectoPascalLogFormatter())\n",
    "\n",
    "fig, ax = plt.subplots(figsize=(4, 6))\n",
    "for scenario in scenarios:\n",
    "    typhon.plots.profile_p_log(\n",
    "        p, np.std(RH, axis=0),\n",
    "        linewidth=3,\n",
    "        label=get_legend_label(scenario),\n",
    "        )\n",
    "ax.legend()\n",
    "ax.grid('on')\n",
    "ax.set_xlim(left=-0.01, right=0.15)\n",
    "ax.set_ylim(p.max(), p.min())"
   ]
  },
  {
   "cell_type": "markdown",
   "metadata": {
    "ExecuteTime": {
     "end_time": "2017-08-03T12:23:31.130628Z",
     "start_time": "2017-08-03T12:23:31.103450Z"
    }
   },
   "source": [
    "# Layer thickness"
   ]
  },
  {
   "cell_type": "code",
   "execution_count": null,
   "metadata": {

    "scrolled": false
   },
   "outputs": [],
   "source": [
    "fig2, ax2 = plt.subplots()\n",
    "for scenario in scenarios:\n",
    "    dataset = Dataset(scenario)\n",
    "\n",
    "    plev = dataset.variables['plev'][:]\n",
    "    phlev = dataset.variables['phlev'][:]\n",
    "    time = dataset.variables['time'][:] / 24\n",
    "    T_field = dataset.variables['T'][:]\n",
    "    rho_field = typhon.physics.density(plev, T_field)\n",
    "    z_field = np.cumsum(-np.diff(phlev) / (rho_field * typhon.constants.g), axis=1)\n",
    "    thickness = np.diff(z_field, axis=1)\n",
    "\n",
    "    fig, ax = plt.subplots(figsize=(10, 6))\n",
    "    change_in_thickness = thickness - thickness[0, :]\n",
    "    rel_change_in_thickness = (thickness - thickness[0, :]) / thickness[0, :] * 100\n",
    "    sm = ax.pcolormesh(time, plev[:-1], rel_change_in_thickness.T[:, :-1],\n",
    "                       cmap='difference', rasterized=True)\n",
    "    ax.invert_yaxis()\n",
    "    ax.set_yscale('log')\n",
    "    ax.set_ylabel('Pressure [hPa]')\n",
    "    ax.set_ylim(plev.max(), plev[:-1].min())\n",
    "    ax.set_xlabel('Days')\n",
    "    ax.set_xlim(left=0)\n",
    "    ax.yaxis.set_major_formatter(typhon.plots.HectoPascalLogFormatter())\n",
    "    ax.yaxis.set_minor_formatter(typhon.plots.HectoPascalLogFormatter())\n",
    "    cb = fig.colorbar(sm, label='Change in layer thickness [%]')\n",
    "    typhon.plots.center_colorbar(cb)\n",
    "    ax.set_title(rf'RCE | {get_legend_label(scenario)}')\n",
    "    scale = conrad.utils.extract_metadata(scenario).scale\n",
    "    fig.savefig(join(plot_dir, f'{season}_{experiment}_{scale}_layer_thickness.pdf'))\n",
    "\n",
    "    ax2.plot(time, np.sum(change_in_thickness.T, axis=0),\n",
    "             linewidth=3,\n",
    "             label=get_legend_label(scenario))\n",
    "    \n",
    "ax2.set_title(rf'RCE | {get_legend_label(scenario)}')\n",
    "ax2.set_ylabel('Change in atmosphere thickness [m]')\n",
    "ax2.set_xlabel('Days')\n",
    "ax2.set_xlim(left=0)\n",
    "ax2.grid(True)\n",
    "ax2.legend(loc='upper left', bbox_to_anchor=(1, 1))\n",
    "fig2.savefig(join(plot_dir, f'{season}_{experiment}_atmosphere_thickness.pdf'))"
   ]
  }
 ],
 "metadata": {
  "kernelspec": {
   "display_name": "Python 3",
   "language": "python",
   "name": "python3"
  },
  "language_info": {
   "codemirror_mode": {
    "name": "ipython",
    "version": 3
   },
   "file_extension": ".py",
   "mimetype": "text/x-python",
   "name": "python",
   "nbconvert_exporter": "python",
   "pygments_lexer": "ipython3",
   "version": "3.6.1"
  },
  "toc": {
   "toc_cell": false,
   "toc_number_sections": true,
   "toc_threshold": 6,
   "toc_window_display": false
  }
 },
 "nbformat": 4,
 "nbformat_minor": 2
}
