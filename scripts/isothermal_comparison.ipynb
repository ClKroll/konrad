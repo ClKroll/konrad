{
 "cells": [
  {
   "cell_type": "code",
   "execution_count": null,
   "metadata": {

    "collapsed": true
   },
   "outputs": [],
   "source": [
    "%matplotlib inline\n",
    "import glob\n",
    "\n",
    "import matplotlib.pyplot as plt\n",
    "import typhon.plots\n",
    "from netCDF4 import Dataset\n",
    "\n",
    "plt.style.use(typhon.plots.styles('typhon'))"
   ]
  },
  {
   "cell_type": "markdown",
   "metadata": {},
   "source": [
    "# Isothermal temperature profiles"
   ]
  },
  {
   "cell_type": "code",
   "execution_count": null,
   "metadata": {

    "collapsed": false,
    "deletable": true,
    "editable": true,
    "scrolled": false
   },
   "outputs": [],
   "source": [
    "datasets = [Dataset(ncfile) for ncfile in glob.glob('results/isothermal_*.nc')]\n",
    "max_indices = [d.variables['T'].shape[0] for d in datasets]\n",
    "nth = 25\n",
    "\n",
    "for t in range(0, np.max(max_indices) + 1, nth):\n",
    "    fig, ax = plt.subplots(figsize=typhon.plots.figsize(6, portrait=True))\n",
    "    for n, data in enumerate(datasets):\n",
    "        p = data.variables['plev'][:]\n",
    "        T = data.variables['T'][np.clip(t, 0, np.max(max_indices) + 1), :]\n",
    "        T_init = int(data.variables['T'][0, 0])\n",
    "\n",
    "        typhon.plots.profile_p_log(p, T,\n",
    "                                   ax=ax,\n",
    "                                   label=f'$T_{{init}}$ = {T_init} K',\n",
    "                                   linestyle='solid',\n",
    "                                   linewidth=3,\n",
    "                                   color=f'C{n}')\n",
    "    ax.legend(loc='upper left')\n",
    "    ax.set_ylim(1000e2, 0.1e2)\n",
    "    ax.set_xlim(200, 330)\n",
    "    ax.set_xlabel('Temperature [K]')\n",
    "    fig.savefig(f'plots/isothermal_animation/iter_{t:04d}.png')\n",
    "    plt.close(fig)\n",
    "    \n",
    "for data in datasets:\n",
    "    data.close()\n",
    "\n",
    "typhon.utils.image2mpeg(\n",
    "    glob='plots/isothermal_animation/iter_*.png',\n",
    "    outfile='plots/isothermal_animation/isothermal.mp4')"
   ]
  },
  {
   "cell_type": "markdown",
   "metadata": {},
   "source": [
    "# Shifted temperature profiles"
   ]
  },
  {
   "cell_type": "code",
   "execution_count": null,
   "metadata": {

    "collapsed": false
   },
   "outputs": [],
   "source": [
    "datasets = [Dataset(ncfile) for ncfile in glob.glob('results/shifted_*.nc')]\n",
    "max_indices = [d.variables['T'].shape[0] for d in datasets]\n",
    "nth = 25\n",
    "\n",
    "for t in range(0, np.max(max_indices) + 1, nth):\n",
    "    fig, ax = plt.subplots(figsize=typhon.plots.figsize(6, portrait=True))\n",
    "    for n, data in enumerate(datasets):\n",
    "        p = data.variables['plev'][:]\n",
    "        T = data.variables['T'][np.clip(t, 0, max_indices[n] - 1), :]\n",
    "        T_init = int(data.variables['T'][0, 0])\n",
    "\n",
    "        typhon.plots.profile_p_log(p, T,\n",
    "                                   ax=ax,\n",
    "                                   label=f'$T_{{init}}$ = {T_init} K',\n",
    "                                   linestyle='solid',\n",
    "                                   linewidth=3,\n",
    "                                   color=f'C{n}')\n",
    "    ax.legend(loc='upper left')\n",
    "    ax.set_ylim(1000e2, 0.1e2)\n",
    "    ax.set_xlim(200, 330)\n",
    "    ax.set_xlabel('Temperature [K]')\n",
    "    fig.savefig(f'plots/shifted/iter_{t:04d}.png')\n",
    "    plt.close(fig)\n",
    "    \n",
    "for data in datasets:\n",
    "    data.close()\n",
    "\n",
    "typhon.utils.image2mpeg(\n",
    "    glob='plots/shifted/iter_*.png',\n",
    "    outfile='plots/shifted/shifted.mp4')"
   ]
  }
 ],
 "metadata": {
  "kernelspec": {
   "display_name": "Python 3",
   "language": "python",
   "name": "python3"
  },
  "language_info": {
   "codemirror_mode": {
    "name": "ipython",
    "version": 3
   },
   "file_extension": ".py",
   "mimetype": "text/x-python",
   "name": "python",
   "nbconvert_exporter": "python",
   "pygments_lexer": "ipython3",
   "version": "3.6.1"
  },
  "toc": {
   "toc_cell": false,
   "toc_number_sections": true,
   "toc_threshold": 6,
   "toc_window_display": false
  }
 },
 "nbformat": 4,
 "nbformat_minor": 2
}
