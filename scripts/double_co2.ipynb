{
 "cells": [
  {
   "cell_type": "code",
   "execution_count": null,
   "metadata": {
    "ExecuteTime": {
     "end_time": "2017-06-08T16:25:26.585033Z",
     "start_time": "2017-06-08T16:25:24.323239Z"
    }
   },
   "outputs": [],
   "source": [
    "%matplotlib inline\n",
    "from os.path import basename, splitext\n",
    "import glob\n",
    "\n",
    "import numpy as np\n",
    "import matplotlib.pyplot as plt\n",
    "import typhon.plots\n",
    "from netCDF4 import Dataset\n",
    "\n",
    "\n",
    "plt.style.use(typhon.plots.styles('typhon'))\n",
    "\n",
    "\n",
    "def extract_scale(scenario):\n",
    "    return splitext(basename(scenario))[0].split('x')[-1].replace('_', ', ').split('-')[0]\n",
    "\n",
    "\n",
    "season = 'tropical'\n",
    "\n",
    "scenarios = glob.iglob('results/double_co2/{season}_co2_x*-re.nc'.format(season=season))\n",
    "\n",
    "fig, [ax, ax2] = plt.subplots(nrows=2, sharex=True)\n",
    "for scenario in sorted(scenarios, reverse=True):\n",
    "    data = Dataset(scenario)\n",
    "    time = data.variables['time'][:] / 24  # time in days\n",
    "    \n",
    "    # Calculate surface temperatures from radiative fluxes.\n",
    "    lw_flxd = data.variables['lw_flxd'][:, 0]\n",
    "    sw_flxu = data.variables['sw_flxu'][:, 0]\n",
    "    sw_flxd = data.variables['sw_flxd'][:, 0]\n",
    "    Ts = ((sw_flxd - sw_flxu + lw_flxd) / 5.67e-8)**(0.25) \n",
    "    \n",
    "    ax.plot(time, Ts,\n",
    "            label=r'$CO_2 \\times {}$'.format(extract_scale(scenario)),\n",
    "            linewidth=3,\n",
    "            )\n",
    "    \n",
    "    lw_flxu = data.variables['lw_flxu'][:, -1]\n",
    "    lw_flxd = data.variables['lw_flxd'][:, -1]\n",
    "    sw_flxu = data.variables['sw_flxu'][:, -1]\n",
    "    sw_flxd = data.variables['sw_flxd'][:, -1]\n",
    "    toa = ((sw_flxd + lw_flxd) - (sw_flxu + lw_flxu))\n",
    "    \n",
    "    ax2.plot(time, toa,\n",
    "             label=r'$\\alpha = {}$'.format(extract_scale(scenario)),\n",
    "             linewidth=3,\n",
    "             )\n",
    "    \n",
    "fig.suptitle('FASCOD {season}'.format(season=season.capitalize()))\n",
    "ax.grid('on')\n",
    "ax2.grid('on')\n",
    "ax.legend(loc='upper left', bbox_to_anchor=(1, 1))\n",
    "ax2.set_xlabel('Day')\n",
    "ax.set_xlim(left=0)\n",
    "ax.set_ylabel('$T_s$ [K]')\n",
    "ax2.set_ylabel('TOA [$Wm^{-2}$]')\n",
    "fig.savefig('plots/t_surface_double_co2_{season}_re.pdf'.format(season=season))"
   ]
  },
  {
   "cell_type": "code",
   "execution_count": null,
   "metadata": {
    "ExecuteTime": {
     "end_time": "2017-06-08T16:25:52.875485Z",
     "start_time": "2017-06-08T16:25:51.095467Z"
    }
   },
   "outputs": [],
   "source": [
    "season = 'tropical'\n",
    "scenarios = glob.iglob('results/double_co2/{season}_co2_x*-re.nc'.format(season=season))\n",
    "\n",
    "fig, ax = plt.subplots(figsize=typhon.plots.figsize(6, portrait=True))\n",
    "for scenario in sorted(scenarios, reverse=True):\n",
    "    data = Dataset(scenario)\n",
    "    p = data.variables['plev'][:]\n",
    "    T = data.variables['T'][-1, :]\n",
    "    ci = np.argmin(T)\n",
    "    q = data.variables['H2O'][-1, :]\n",
    "    \n",
    "    rh = typhon.atmosphere.relative_humidity(q, p, T)\n",
    "\n",
    "    l = typhon.plots.profile_p_log(\n",
    "        p, T,\n",
    "        label=r'$CO_2 \\times {}$'.format(extract_scale(scenario)),\n",
    "        linewidth=3,\n",
    "        )\n",
    "    ax.axhline(p[ci], linestyle='dotted', color=l[0].get_color(), alpha=0.3)\n",
    "    \n",
    "ax.set_title('FASCOD {season}'.format(season=season.capitalize()))\n",
    "ax.grid('on')\n",
    "ax.legend(loc='upper left', bbox_to_anchor=(1, 1))\n",
    "ax.set_xlabel('Temperature [K]')\n",
    "ax.set_ylim(top=p.min(), bottom=p.max())\n",
    "fig.savefig('plots/t_profile_double_co2_{season}_re.pdf'.format(season=season))"
   ]
  }
 ],
 "metadata": {
  "kernelspec": {
   "display_name": "Python 3",
   "language": "python",
   "name": "python3"
  },
  "language_info": {
   "codemirror_mode": {
    "name": "ipython",
    "version": 3
   },
   "file_extension": ".py",
   "mimetype": "text/x-python",
   "name": "python",
   "nbconvert_exporter": "python",
   "pygments_lexer": "ipython3",
   "version": "3.6.1"
  },
  "toc": {
   "toc_cell": false,
   "toc_number_sections": true,
   "toc_threshold": 6,
   "toc_window_display": false
  }
 },
 "nbformat": 4,
 "nbformat_minor": 2
}
