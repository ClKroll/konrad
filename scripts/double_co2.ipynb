{
 "cells": [
  {
   "cell_type": "code",
   "execution_count": null,
   "metadata": {
    "ExecuteTime": {
     "end_time": "2017-05-24T08:41:35.846200Z",
     "start_time": "2017-05-24T08:41:34.607475Z"
    }
   },
   "outputs": [],
   "source": [
    "%matplotlib inline\n",
    "from os.path import basename, splitext\n",
    "import glob\n",
    "\n",
    "import numpy as np\n",
    "import matplotlib.pyplot as plt\n",
    "import typhon.plots\n",
    "from netCDF4 import Dataset\n",
    "\n",
    "plt.style.use(typhon.plots.styles('typhon'))\n",
    "\n",
    "\n",
    "def extract_scale(scenario):\n",
    "    return splitext(basename(scenario))[0].split('x')[-1]\n",
    "\n",
    "\n",
    "scenarios = glob.glob('results/co2_x*.nc')\n",
    "\n",
    "fig, ax = plt.subplots()\n",
    "for scenario in sorted(scenarios):\n",
    "    data = Dataset(scenario)\n",
    "    time = data.variables['time'][:] / 24  # time in days\n",
    "    Ts = data.variables['T'][:, 0]\n",
    "\n",
    "    ax.plot(time, Ts,\n",
    "            label=r'$CO_2 \\times {}$'.format(extract_scale(scenario)))\n",
    "    \n",
    "ax.grid('on')\n",
    "ax.legend(loc='upper left', bbox_to_anchor=(1, 1))\n",
    "ax.set_xlabel('Day')\n",
    "ax.set_xlim(left=0)\n",
    "ax.set_ylabel('Surface Temperature [K]')\n",
    "fig.savefig('plots/t_surface_double_co2.pdf')"
   ]
  }
 ],
 "metadata": {
  "kernelspec": {
   "display_name": "Python 3",
   "language": "python",
   "name": "python3"
  },
  "language_info": {
   "codemirror_mode": {
    "name": "ipython",
    "version": 3
   },
   "file_extension": ".py",
   "mimetype": "text/x-python",
   "name": "python",
   "nbconvert_exporter": "python",
   "pygments_lexer": "ipython3",
   "version": "3.6.1"
  },
  "toc": {
   "toc_cell": false,
   "toc_number_sections": true,
   "toc_threshold": 6,
   "toc_window_display": false
  }
 },
 "nbformat": 4,
 "nbformat_minor": 2
}
