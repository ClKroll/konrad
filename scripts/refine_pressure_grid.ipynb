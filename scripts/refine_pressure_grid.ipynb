{
 "cells": [
  {
   "cell_type": "code",
   "execution_count": null,
   "metadata": {

    "collapsed": true
   },
   "outputs": [],
   "source": [
    "%matplotlib inline\n",
    "import re\n",
    "import os\n",
    "\n",
    "import numpy as np\n",
    "import matplotlib.pyplot as plt\n",
    "from netCDF4 import Dataset\n",
    "\n",
    "os.environ['PSRAD_PATH'] = '/scratch/uni/u237/users/lkluft/icon-aes/psrad/'\n",
    "import conrad\n",
    "import typhon\n",
    "\n",
    "\n",
    "plt.style.use(typhon.plots.styles('typhon'))\n",
    "\n",
    "def extract_scale(filename, regex='.*co2_x(.*)-.*\\.nc'):\n",
    "    \"\"\"Extract the CO2 increase from filename.\n",
    "    \n",
    "    Parameters:\n",
    "        filename (str): Path to netCDF file.\n",
    "        \n",
    "    Returns:\n",
    "        str: Extracted CO2 factor if successful, filename if not.\n",
    "        \n",
    "    Examples:\n",
    "        >>> extract_scale('results/tropical_co2_x0.5-conv_fVMR.nc')\n",
    "        '0.5'\n",
    "    \"\"\"\n",
    "    pattern = re.compile(regex)\n",
    "    matches = pattern.match(filename)\n",
    "\n",
    "    if matches:\n",
    "        return matches.group(1)\n",
    "    else:\n",
    "        return filename\n",
    "    \n",
    "\n",
    "def get_legend_label(filename, label=r'$CO_2 \\times {placeholder}$', **kwargs):\n",
    "    \"\"\"Get label for legend entry.\"\"\"\n",
    "    experiment = extract_scale(filename, **kwargs)\n",
    "    \n",
    "    return label.format(placeholder=experiment)\n",
    "    "
   ]
  },
  {
   "cell_type": "markdown",
   "metadata": {},
   "source": [
    "# Refined grid visualisation"
   ]
  },
  {
   "cell_type": "code",
   "execution_count": null,
   "metadata": {
    "ExecuteTime": {
     "end_time": "2017-08-08T13:07:14.099233Z",
     "start_time": "2017-08-08T13:07:13.259746Z"
    }
   },
   "outputs": [],
   "source": [
    "start, stop, num = 1013e2, 0.01e2, 15\n",
    "\n",
    "p_refined = conrad.utils.refined_pgrid(start, stop, num)\n",
    "p_log = typhon.math.nlogspace(start, stop, num)\n",
    "p_lin = np.linspace(start, stop, num)\n",
    "\n",
    "fig, ax = plt.subplots(figsize=(4, 8))\n",
    "ax.axhline(100e2, color='darkred', linestyle='dashed')\n",
    "typhon.plots.profile_p_log(p_lin, 0* np.ones(p_lin.size), marker='o', linestyle='none')\n",
    "typhon.plots.profile_p_log(p_log, 1 * np.ones(p_log.size), marker='o', linestyle='none')\n",
    "typhon.plots.profile_p_log(p_refined, 2 * np.ones(p_refined.size), marker='o', linestyle='none')\n",
    "ax.set_xticks(range(3))\n",
    "ax.set_xticklabels(['Linear', 'Logarithmic', 'Refined'], rotation=0)\n",
    "ax.grid(True)\n",
    "fig.savefig('plots/refined_pgrid.pdf')"
   ]
  },
  {
   "cell_type": "markdown",
   "metadata": {},
   "source": [
    "# Refined grid results"
   ]
  },
  {
   "cell_type": "code",
   "execution_count": null,
   "metadata": {
    "ExecuteTime": {
     "end_time": "2017-08-08T13:07:08.595703Z",
     "start_time": "2017-08-08T13:07:06.032358Z"
    }
   },
   "outputs": [],
   "source": [
    "season = 'tropical'\n",
    "\n",
    "grid_log = sorted(\n",
    "    glob.glob(f'results/{season}_layers_*.nc'),\n",
    "    key=lambda fname: float(conrad.utils.extract_metadata(fname).scale),\n",
    "    reverse=True,\n",
    ")\n",
    "\n",
    "grid_refined = sorted(\n",
    "    glob.glob(f'results/{season}_refined-layers_*.nc'),\n",
    "    key=lambda fname: float(conrad.utils.extract_metadata(fname).scale),\n",
    "    reverse=True,\n",
    ")\n",
    "\n",
    "if len(grid_log) * len(grid_refined) == 0:\n",
    "    raise Exception('No input files found. Probably screwed glob pattern.')\n",
    "\n",
    "legend_entry = ['Logarithmic', 'Refined']\n",
    "\n",
    "fig, ax = plt.subplots()\n",
    "for n, grid_type in enumerate([grid_log, grid_refined]):\n",
    "    number_of_levels = [\n",
    "        [int(conrad.utils.extract_metadata(f).scale), float(Dataset(f).variables['temperature'][-1])]\n",
    "        for f in grid_type\n",
    "    ]\n",
    "    nlevels, Ts_eq = np.split(np.array(number_of_levels), 2, axis=1)\n",
    "\n",
    "    ax.plot(nlevels, Ts_eq, marker='o', linestyle='none',\n",
    "            color=f'C{n}', label=legend_entry[n])\n",
    "    ax.plot(nlevels, Ts_eq, linestyle='--', alpha=0.5, color=f'C{n}')\n",
    "ax.grid(True)\n",
    "ax.set_xlabel('Pressure levels [#]')\n",
    "ax.set_ylabel('$T_{s, eq}$ [K]')\n",
    "ax.set_ylim(309.3, 313.5)\n",
    "ax.legend()\n",
    "fig.savefig('plots/layer_dependency_refined.pdf')"
   ]
  },
  {
   "cell_type": "markdown",
   "metadata": {
    "ExecuteTime": {
     "end_time": "2017-08-08T07:09:12.153737Z",
     "start_time": "2017-08-08T07:09:12.105839Z"
    }
   },
   "source": [
    "# Improved algorithm"
   ]
  },
  {
   "cell_type": "code",
   "execution_count": null,
   "metadata": {
    "ExecuteTime": {
     "end_time": "2017-08-08T13:07:11.679040Z",
     "start_time": "2017-08-08T13:07:08.597969Z"
    }
   },
   "outputs": [],
   "source": [
    "dataset_reference = Dataset('results/tropical_refined-layers_1000.nc')\n",
    "dataset_improved = Dataset('results/tropical_refined-layers_1000_fast.nc')\n",
    "\n",
    "days = dataset_reference.variables['time'][:] / 24\n",
    "T_reference = dataset_reference.variables['T'][:, 100]\n",
    "T_improved = dataset_improved.variables['T'][:, 100]\n",
    "\n",
    "fig, ax = plt.subplots()\n",
    "ax.plot(days, (T_improved - T_reference) / T_reference)\n",
    "ax.set_xlabel('Days')\n",
    "ax.set_xlim(left=0)\n",
    "ax.set_ylabel('Relative difference')\n",
    "ax.grid(True)\n",
    "\n",
    "fig.savefig('plots/improved_scheme_error.pdf')"
   ]
  }
 ],
 "metadata": {
  "kernelspec": {
   "display_name": "Python 3",
   "language": "python",
   "name": "python3"
  },
  "language_info": {
   "codemirror_mode": {
    "name": "ipython",
    "version": 3
   },
   "file_extension": ".py",
   "mimetype": "text/x-python",
   "name": "python",
   "nbconvert_exporter": "python",
   "pygments_lexer": "ipython3",
   "version": "3.6.1"
  },
  "toc": {
   "toc_cell": false,
   "toc_number_sections": true,
   "toc_threshold": 6,
   "toc_window_display": false
  }
 },
 "nbformat": 4,
 "nbformat_minor": 2
}
