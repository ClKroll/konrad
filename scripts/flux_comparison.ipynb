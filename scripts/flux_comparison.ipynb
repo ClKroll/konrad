{
 "cells": [
  {
   "cell_type": "code",
   "execution_count": null,
   "metadata": {
    "ExecuteTime": {
     "end_time": "2018-03-01T12:33:34.422933Z",
     "start_time": "2018-03-01T12:32:29.142002Z"
    }
   },
   "outputs": [],
   "source": [
    "%matplotlib inline\n",
    "import logging\n",
    "from os.path import join\n",
    "\n",
    "import konrad\n",
    "import matplotlib.pyplot as plt\n",
    "import typhon\n",
    "import xarray as xr\n",
    "from scipy import interpolate\n",
    "\n",
    "logging.getLogger().setLevel(logging.ERROR)\n",
    "\n",
    "plt.style.use(typhon.plots.styles('typhon'))\n",
    "\n",
    "\n",
    "def results2xarray(fluxes, heating):\n",
    "    phlev, flxu, flxd = np.split(fluxes, 3, axis=1)\n",
    "    plev, htngrt = np.split(heating, 2, axis=1)\n",
    "    \n",
    "    coords = {\n",
    "        'time': [0],\n",
    "        'plev': plev.ravel(),\n",
    "        'phlev': phlev.ravel(),\n",
    "    }\n",
    "    \n",
    "    dataset = xr.Dataset(coords=coords)\n",
    "    dataset['lw_flxu'] = xr.DataArray(flxu.T, dims=('time', 'phlev'))\n",
    "    dataset['lw_flxd'] = -xr.DataArray(flxd.T, dims=('time', 'phlev'))\n",
    "    dataset['lw_htngrt'] = 24 * 3600 * xr.DataArray(htngrt.T, dims=('time', 'plev'))\n",
    "    \n",
    "    konrad.utils.append_description(dataset)\n",
    "    \n",
    "    return dataset\n",
    "\n",
    "\n",
    "def radiation_from_atmfield(atm_fields_compact, **kwargs):\n",
    "    atmosphere = konrad.atmosphere.Atmosphere.from_atm_fields_compact(atm_fields_compact)        \n",
    "    surface = konrad.surface.SurfaceHeatCapacity.from_atmosphere(atmosphere)\n",
    "    atmosphere.attrs['surface'] = surface\n",
    "    radiation = konrad.radiation.RRTMG(**kwargs)\n",
    "\n",
    "    return radiation.get_heatingrates(atmosphere)\n",
    "\n",
    "\n",
    "def dataset_diff(one, another, key):\n",
    "    height_dim = one[key].dims[1]\n",
    "        \n",
    "    func = interpolate.interp1d(\n",
    "        one[height_dim],\n",
    "        one[key].values.ravel(),\n",
    "        bounds_error=False,\n",
    "        fill_value='extrapolate',\n",
    "    )\n",
    "\n",
    "    return another[height_dim], another[key].values.ravel() - func(another[height_dim])\n",
    "        \n",
    "    \n",
    "def calc_co2_factor(atm_field, co2_baseline=348e-6):\n",
    "    co2 = atm_field.get('abs_species-CO2', keep_dims=False)\n",
    "    return np.mean(co2 / co2_baseline)\n",
    "    \n",
    "    \n",
    "flux_dir = '/work/um0878/users/lkluft/fluxes_arts/'\n",
    "atmdata = 'rce-rrtmg.xml'\n",
    "\n",
    "batch_atmfields = xml.load(join(flux_dir, 'atmdata', atmdata))[::-1]\n",
    "batch_fluxes = xml.load(join(flux_dir, 'results', 'fluxes_' + atmdata))[::-1]\n",
    "batch_htngrt = xml.load(join(flux_dir, 'results' , 'heatingrates_' + atmdata))[::-1]"
   ]
  },
  {
   "cell_type": "markdown",
   "metadata": {},
   "source": [
    "# Heatingrate difference"
   ]
  },
  {
   "cell_type": "code",
   "execution_count": null,
   "metadata": {
    "scrolled": false
   },
   "outputs": [],
   "source": [
    "fig, axes = plt.subplots(2, 2, sharey=True, figsize=(12, 10))\n",
    "\n",
    "axes = axes.ravel()\n",
    "dummy = axes[0].plot([], label='Downward', color='k', linestyle='dashed')\n",
    "dummy = axes[0].plot([], label='Upward', color='k', linestyle='dotted')\n",
    "\n",
    "for i in range(len(batch_atmfields)):\n",
    "    arts = results2xarray(batch_fluxes[i], batch_htngrt[i])\n",
    "    rrtmg = radiation_from_atmfield(batch_atmfields[i])\n",
    "    scale = calc_co2_factor(batch_atmfields[i])\n",
    "    \n",
    "    dummy = axes[2].plot([], color=f'C{i}', label=rf'$\\sf CO_2 \\times {scale:g}$')\n",
    "    \n",
    "    # Fluxes\n",
    "    flux_keys = {\n",
    "        'lw_flxd': {'linestyle': 'dashed'},\n",
    "        'lw_flxu': {'linestyle': 'dotted'},\n",
    "    }\n",
    "    for key, kwargs in flux_keys.items():\n",
    "        # Total fluxes\n",
    "        typhon.plots.profile_p_log(\n",
    "            rrtmg['phlev'].values, rrtmg[key][-1, :],\n",
    "            color=f'C{i}',\n",
    "            ax=axes[0],\n",
    "            **kwargs,\n",
    "        )\n",
    "        axes[0].set_xlabel('Flux [$\\sf Wm^{-2}$]', fontsize='small')\n",
    "        axes[0].set_xlim(left=0, right=500)\n",
    "        axes[0].set_title('RRTMG')\n",
    "    \n",
    "        # Differences\n",
    "        axes[1].axvline(0, color='black', linewidth=0.8, zorder=-1)\n",
    "        typhon.plots.profile_p_log(\n",
    "            *dataset_diff(arts, rrtmg, key),\n",
    "            color=f'C{i}',\n",
    "            ax=axes[1],\n",
    "            **kwargs,\n",
    "        )\n",
    "        axes[1].set_xlabel('Flux difference [$\\sf Wm^{-2}$]', fontsize='small')\n",
    "        axes[1].set_title('$\\sf RRTMG - ARTS$')\n",
    "        \n",
    "    # Total Heatingrates\n",
    "    typhon.plots.profile_p_log(\n",
    "        rrtmg['plev'].values, rrtmg['lw_htngrt'][-1, :],\n",
    "        color=f'C{i}',\n",
    "        ax=axes[2],\n",
    "    )\n",
    "    axes[2].set_xlabel('Heating rate [K/day]', fontsize='small')\n",
    "\n",
    "    # Heatingrate differences\n",
    "    axes[3].axvline(0, color='black', linewidth=0.8, zorder=-1)\n",
    "    typhon.plots.profile_p_log(\n",
    "        *dataset_diff(arts, rrtmg, 'lw_htngrt'),\n",
    "        color=f'C{i}',\n",
    "        ax=axes[3],\n",
    "    )\n",
    "    axes[3].set_xlabel('Heating rate difference [K/day]', fontsize='small')\n",
    "    axes[3].set_xlim(-0.6, 0.6)\n",
    "\n",
    "axes[0].set_ylim(top=0.01e2)\n",
    "axes[0].legend(loc='upper left', fontsize='small')\n",
    "axes[2].legend(loc='lower left', fontsize='small')\n",
    "fig.savefig('plots/flux_comparison.pdf')"
   ]
  },
  {
   "cell_type": "markdown",
   "metadata": {
    "ExecuteTime": {
     "end_time": "2018-02-28T12:14:16.495973Z",
     "start_time": "2018-02-28T12:14:15.529202Z"
    }
   },
   "source": [
    "# Save bias-correction to `netCDF`"
   ]
  },
  {
   "cell_type": "code",
   "execution_count": null,
   "metadata": {
    "ExecuteTime": {
     "end_time": "2018-03-02T09:15:49.912848Z",
     "start_time": "2018-03-02T09:15:48.627258Z"
    }
   },
   "outputs": [],
   "source": [
    "for i in range(len(batch_atmfields)):\n",
    "    arts = results2xarray(batch_fluxes[i], batch_htngrt[i])\n",
    "    rrtmg = radiation_from_atmfield(batch_atmfields[i])\n",
    "    scale = calc_co2_factor(batch_atmfields[i])\n",
    "    \n",
    "    plev, htngrt_bias = dataset_diff(arts, rrtmg, 'lw_htngrt')\n",
    "    phlev, lw_flxd_bias = dataset_diff(arts, rrtmg, 'lw_flxd')\n",
    "    phlev, lw_flxu_bias = dataset_diff(arts, rrtmg, 'lw_flxu')\n",
    "    \n",
    "    ds = xr.Dataset(coords={'plev': plev, 'phlev': phlev})\n",
    "    ds['lw_flxd'] = xr.DataArray(lw_flxd_bias.ravel(), dims=['phlev'])\n",
    "    ds['lw_flxu'] = xr.DataArray(lw_flxu_bias.ravel(), dims=['phlev'])\n",
    "\n",
    "    ds.to_netcdf(f'results/bias-correction/radiation-bias_{scale:g}.nc')"
   ]
  }
 ],
 "metadata": {
  "kernelspec": {
   "display_name": "Python 3",
   "language": "python",
   "name": "python3"
  },
  "language_info": {
   "codemirror_mode": {
    "name": "ipython",
    "version": 3
   },
   "file_extension": ".py",
   "mimetype": "text/x-python",
   "name": "python",
   "nbconvert_exporter": "python",
   "pygments_lexer": "ipython3",
   "version": "3.6.3"
  }
 },
 "nbformat": 4,
 "nbformat_minor": 2
}
