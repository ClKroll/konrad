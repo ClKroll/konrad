{
 "cells": [
  {
   "cell_type": "code",
   "execution_count": null,
   "metadata": {

    "collapsed": true
   },
   "outputs": [],
   "source": [
    "%matplotlib inline\n",
    "import numpy as np\n",
    "import matplotlib.pyplot as plt\n",
    "import typhon\n",
    "import conrad\n",
    "from netCDF4 import Dataset\n",
    "\n",
    "\n",
    "plt.style.use(typhon.plots.styles('typhon'))"
   ]
  },
  {
   "cell_type": "code",
   "execution_count": null,
   "metadata": {

    "collapsed": true
   },
   "outputs": [],
   "source": [
    "def linear_profile(z, Ts=300, lrate=0.0065):\n",
    "    return Ts - lrate * z"
   ]
  },
  {
   "cell_type": "code",
   "execution_count": null,
   "metadata": {

    "collapsed": true
   },
   "outputs": [],
   "source": [
    "data = Dataset('results/tropical-re.nc')\n",
    "\n",
    "timestep = -1 \n",
    "\n",
    "time = data.variables['time'][:] / 24  # time in days\n",
    "p = data.variables['plev'][:]\n",
    "ph = data.variables['phlev'][:]\n",
    "z = data.variables['z'][timestep, :]\n",
    "T = data.variables['T'][timestep, :]\n",
    "dT = data.variables['deltaT'][timestep, :]\n",
    "\n",
    "net_htngrt = data.variables['net_htngrt'][timestep, :]\n",
    "lw_flxu = data.variables['lw_flxu'][timestep, :]\n",
    "lw_flxd = data.variables['lw_flxd'][timestep, :]\n",
    "sw_flxu = data.variables['sw_flxu'][timestep, :]\n",
    "sw_flxd = data.variables['sw_flxd'][timestep, :]\n",
    "\n",
    "fig, [ax, ax2] = plt.subplots(ncols=2, sharey=True, figsize=(8, 8))\n",
    "fig.subplots_adjust(wspace=0.05)\n",
    "typhon.plots.profile_p_log(p, T, label='Temperature', ax=ax, linewidth=4)\n",
    "typhon.plots.profile_p_log(p, linear_profile(z, T[0]),\n",
    "                           color='grey',\n",
    "                           linestyle='dashed',\n",
    "                           label='Const. lapse rate',\n",
    "                           ax=ax,\n",
    "                           )\n",
    "ax.set_ylim(p.max(), p.min())\n",
    "ax.set_xlim(180, 340)\n",
    "ax.set_xlabel('Temperature [K]')\n",
    "ax.grid(True)\n",
    "ax.legend()\n",
    "\n",
    "typhon.plots.profile_p_log(ph, lw_flxu, label='LW \\u2191', lw=4, ax=ax2)\n",
    "typhon.plots.profile_p_log(ph, lw_flxd, label='LW \\u2193', lw=4, ax=ax2)\n",
    "typhon.plots.profile_p_log(ph, sw_flxu, label='SW \\u2191', lw=4, ax=ax2)\n",
    "typhon.plots.profile_p_log(ph, sw_flxd, label='SW \\u2193', lw=4, ax=ax2)\n",
    "ax2.set_xticks(range(0, 1001, 200))\n",
    "ax2.grid(True )\n",
    "ax2.set_xlabel('Flux [$Wm^{-2}$]')\n",
    "ax2.legend(ncol=2)\n",
    "\n",
    "fig.savefig('plots/fluxes.pdf')"
   ]
  },
  {
   "cell_type": "code",
   "execution_count": null,
   "metadata": {
    "ExecuteTime": {
     "end_time": "2017-06-07T13:59:05.874881Z",
     "start_time": "2017-06-07T13:59:03.225857Z"
    }
   },
   "outputs": [],
   "source": [
    "data = Dataset('results/tropical_co2_x4-re.nc')\n",
    "\n",
    "time = data.variables['time'][:] / 24  # time in days\n",
    "lw_flxu = data.variables['lw_flxu'][:, -1]\n",
    "lw_flxd = data.variables['lw_flxd'][:, -1]\n",
    "sw_flxu = data.variables['sw_flxu'][:, -1]\n",
    "sw_flxd = data.variables['sw_flxd'][:, -1]\n",
    "\n",
    "toa = ((sw_flxd + lw_flxd) - (sw_flxu + lw_flxu))\n",
    "\n",
    "fig, ax = plt.subplots()\n",
    "ax.plot(time, toa, label='Radiative', linewidth=4)\n",
    "ax.set_ylabel('TOA [$Wm^{-2}$]')\n",
    "ax.set_xlabel('Days')\n",
    "ax.set_xlim(left=0)\n",
    "ax.legend()\n",
    "ax.grid(True)\n",
    "fig.savefig('plots/toa.pdf')\n",
    "\n",
    "#\n",
    "plev = data.variables['plev'][:]\n",
    "lw_flxu = data.variables['lw_flxu'][:]\n",
    "lw_flxd = data.variables['lw_flxd'][:]\n",
    "sw_flxu = data.variables['sw_flxu'][:]\n",
    "sw_flxd = data.variables['sw_flxd'][:]\n",
    "\n",
    "toa = ((sw_flxd + lw_flxd) - (sw_flxu + lw_flxu))\n",
    "\n",
    "fig, ax = plt.subplots()\n",
    "sm = ax.pcolormesh(time, plev, toa[:, :-1].T, cmap='seismic', rasterized=True)\n",
    "cb = fig.colorbar(sm)\n",
    "typhon.plots.center_colorbar(cb)\n",
    "ax.set_yscale('log')\n",
    "ax.yaxis.set_major_formatter(typhon.plots.HectoPascalLogFormatter())\n",
    "ax.yaxis.set_minor_formatter(typhon.plots.HectoPascalLogFormatter())\n",
    "ax.set_ylim(plev.max(), plev.min())\n",
    "#ax.set_ylabel('TOA [$Wm^{-2}$]')\n",
    "ax.set_ylabel('Pressure [hPa]')\n",
    "ax.set_xlabel('Days')\n",
    "ax.set_xlim(left=0)\n",
    "ax.legend()\n",
    "ax.grid(True)\n",
    "fig.savefig('plots/fluxes.pdf')"
   ]
  },
  {
   "cell_type": "markdown",
   "metadata": {
    "ExecuteTime": {
     "end_time": "2017-06-02T07:44:42.301766Z",
     "start_time": "2017-06-02T07:44:42.278260Z"
    }
   },
   "source": [
    "# Surface temperature (Downward fluxes)"
   ]
  },
  {
   "cell_type": "code",
   "execution_count": null,
   "metadata": {

    "collapsed": true
   },
   "outputs": [],
   "source": [
    "data = Dataset('results/tropical-re.nc')\n",
    "time = data.variables['time'][:] / 24  # time in days\n",
    "\n",
    "lw_flxd = data.variables['lw_flxd'][:, 0]\n",
    "sw_flxu = data.variables['sw_flxu'][:, 0]\n",
    "sw_flxd = data.variables['sw_flxd'][:, 0]\n",
    "\n",
    "Ts = ((sw_flxd - sw_flxu + lw_flxd) / 5.67e-8)**(0.25)\n",
    "\n",
    "fig, ax = plt.subplots()\n",
    "ax.plot(time, Ts, label='Radiative', linewidth=4)\n",
    "ax.set_ylabel('Surface Temperature [K]')\n",
    "ax.set_xlabel('Days')\n",
    "ax.set_xlim(left=0)\n",
    "ax.grid(True)\n",
    "fig.savefig('plots/surface.pdf')"
   ]
  },
  {
   "cell_type": "code",
   "execution_count": null,
   "metadata": {

    "collapsed": true
   },
   "outputs": [],
   "source": [
    "data = Dataset('results/tropical-re.nc')\n",
    "\n",
    "timestep = -1\n",
    "\n",
    "time = data.variables['time'][:] / 24  # time in days\n",
    "p = data.variables['plev'][:]\n",
    "ph = data.variables['phlev'][:]\n",
    "z = data.variables['z'][timestep, :]\n",
    "T = data.variables['T'][timestep, :]\n",
    "q = data.variables['H2O'][timestep, :]\n",
    "\n",
    "lw_flxd = data.variables['lw_flxd'][timestep, 0]\n",
    "sw_flxu = data.variables['sw_flxu'][timestep, 0]\n",
    "sw_flxd = data.variables['sw_flxd'][timestep, 0]\n",
    "Ts = ((sw_flxd - sw_flxu + lw_flxd) / 5.67e-8)**(0.25)\n",
    "\n",
    "atm = conrad.atmosphere.AtmosphereConvective.from_netcdf('results/tropical-re.nc', -1)\n",
    "ctop = atm.convective_top(0.0065)\n",
    "atm.convective_adjustment(ctop, lapse=0.0065)"
   ]
  },
  {
   "cell_type": "code",
   "execution_count": null,
   "metadata": {

    "collapsed": true
   },
   "outputs": [],
   "source": [
    "fig, [ax, ax2] = plt.subplots(ncols=2, sharey=True, figsize=(6, 8))\n",
    "fig.subplots_adjust(wspace=0.05)\n",
    "l = typhon.plots.profile_p_log(p, T, label='Radiative', ax=ax, linewidth=4)\n",
    "ax.plot(Ts, p.max(), color=l[0].get_color(), linestyle='none', marker='o', label='$T_s$')\n",
    "ax.axhline(p[atm.cold_point_index], color=l[0].get_color(), alpha=0.5, label='Cold point')\n",
    "ax.set_ylim(p.max(), p.min())\n",
    "ax.set_xlim(200, 350)\n",
    "ax.set_xlabel('Temperature [K]')\n",
    "ax.legend(loc='upper left')\n",
    "ax.grid(True)\n",
    "\n",
    "typhon.plots.profile_p_log(p, q, label='Radiative', ax=ax2, linewidth=4)\n",
    "typhon.plots.profile_p_log(p, q, label='Radiative', ax=ax2, linewidth=4)\n",
    "ax2.legend(loc='upper left')\n",
    "ax2.grid(True)\n",
    "\n",
    "fig.savefig('plots/profile.pdf')"
   ]
  }
 ],
 "metadata": {
  "kernelspec": {
   "display_name": "Python 3",
   "language": "python",
   "name": "python3"
  },
  "language_info": {
   "codemirror_mode": {
    "name": "ipython",
    "version": 3
   },
   "file_extension": ".py",
   "mimetype": "text/x-python",
   "name": "python",
   "nbconvert_exporter": "python",
   "pygments_lexer": "ipython3",
   "version": "3.6.1"
  },
  "toc": {
   "toc_cell": false,
   "toc_number_sections": true,
   "toc_threshold": 6,
   "toc_window_display": false
  }
 },
 "nbformat": 4,
 "nbformat_minor": 2
}
