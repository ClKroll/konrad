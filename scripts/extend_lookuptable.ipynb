{
 "cells": [
  {
   "cell_type": "code",
   "execution_count": null,
   "metadata": {
    "ExecuteTime": {
     "end_time": "2017-07-28T11:34:21.795127Z",
     "start_time": "2017-07-28T11:34:21.055981Z"
    }
   },
   "outputs": [],
   "source": [
    "%matplotlib inline\n",
    "import numpy as np\n",
    "import matplotlib.pyplot as plt\n",
    "import typhon\n",
    "import xarray as xr\n",
    "from netCDF4 import Dataset\n",
    "\n",
    "\n",
    "plt.style.use(typhon.plots.styles('typhon'))\n",
    "\n",
    "ncpath = '/home/zmaw/u300509/lkluft/icon-aes/psrad/rrtmg_lw.nc'\n",
    "rrtm_props = Dataset(ncpath)\n",
    "\n",
    "T_planck = rrtm_props.variables['TemperaturePlanckValues'][:]\n",
    "T_plot = T_planck.copy()\n",
    "T_plot = np.append(T_plot, T_plot[-1] + 1)\n",
    "band_index = np.arange(1, 18)\n",
    "integrated_planck = rrtm_props.variables['IntegratedPlanckFunction'][:]\n",
    "band16 = rrtm_props.variables['IntegratedPlanckFunctionBand16'][:]\n",
    "#integrated_planck[-1, :] = band16\n",
    "\n",
    "print(integrated_planck.dtype)\n",
    "\n",
    "fig, ax = plt.subplots()\n",
    "sm = ax.pcolormesh(T_plot, band_index, integrated_planck, cmap='temperature')\n",
    "# sm = ax.contourf(integrated_planck, cmap='temperature')\n",
    "ax.set_xlabel('Temperature [K]')\n",
    "ax.set_ylabel('Band')\n",
    "fig.colorbar(sm, label='Integrated Planck values')"
   ]
  },
  {
   "cell_type": "code",
   "execution_count": null,
   "metadata": {
    "ExecuteTime": {
     "end_time": "2017-07-28T11:34:23.177390Z",
     "start_time": "2017-07-28T11:34:21.797054Z"
    }
   },
   "outputs": [],
   "source": [
    "upper_limits = rrtm_props.variables['BandWavenumberUpperLimit'][:]\n",
    "lower_limits = rrtm_props.variables['BandWavenumberLowerLimit'][:]\n",
    "T_planck = rrtm_props.variables['TemperaturePlanckValues'][:]\n",
    "\n",
    "test = np.zeros((band_index.size - 1, T_planck.size))\n",
    "\n",
    "N = T_planck.size\n",
    "\n",
    "for i, (bottom, top) in enumerate(zip(lower_limits, upper_limits)):\n",
    "    wavenumbers = np.linspace(bottom, top, 100) * 100  # wavenumbers in m^-1\n",
    "    for j, T in enumerate(T_planck):\n",
    "        planck = typhon.physics.planck_wavenumber(wavenumbers, T + 1)\n",
    "        test[i, j] = np.trapz(planck, wavenumbers) / (top - bottom) * 1e-4\n",
    "\n",
    "fig, ax = plt.subplots()\n",
    "sm = ax.pcolormesh(T_plot, band_index, test, cmap='temperature')\n",
    "fig.colorbar(sm, label='Integrated Planck values')\n",
    "ax.set_xlabel('Temperature [K]')\n",
    "ax.set_ylabel('Band')\n",
    "\n",
    "fig, ax = plt.subplots()\n",
    "rel_diff = (test - integrated_planck) / integrated_planck\n",
    "sm = ax.pcolormesh(T_plot, band_index, rel_diff, cmap='seismic')\n",
    "cb = fig.colorbar(sm, label='Rel. Diff. Integrated - PSrad')\n",
    "typhon.plots.center_colorbar(cb)\n",
    "ax.set_xlabel('Temperature [K]')\n",
    "ax.set_ylabel('Band')"
   ]
  },
  {
   "cell_type": "code",
   "execution_count": null,
   "metadata": {
    "ExecuteTime": {
     "end_time": "2017-07-28T11:34:42.193561Z",
     "start_time": "2017-07-28T11:34:41.320569Z"
    }
   },
   "outputs": [],
   "source": [
    "# Read band limits\n",
    "with Dataset(ncpath, 'r') as rrtm_props:\n",
    "    upper_limits = rrtm_props.variables['BandWavenumberUpperLimit'][:]\n",
    "    lower_limits = rrtm_props.variables['BandWavenumberLowerLimit'][:]\n",
    "    # T_planck = rrtm_props.variables['TemperaturePlanckValues'][:]\n",
    "    # band16 = rrtm_props.variables['IntegratedPlanckFunctionBand16'][:]\n",
    "    # integrated_planck = rrtm_props.variables['IntegratedPlanckFunction'][:]\n",
    "\n",
    "# Create new reference temperatures for Planck integration.\n",
    "T_planck = np.arange(159, 500)\n",
    "\n",
    "# Pre-allocate new lookup table.\n",
    "new_lookup = np.zeros((band_index.size - 1, T_planck.size))\n",
    "\n",
    "for i, (bottom, top) in enumerate(zip(lower_limits, upper_limits)):\n",
    "    wavenumbers = np.linspace(bottom, top, 50) * 100  # wavenumbers in m^-1\n",
    "    for j, T in enumerate(T_planck):\n",
    "        planck = typhon.physics.planck_wavenumber(wavenumbers, T + 1)\n",
    "        new_lookup[i, j] = np.trapz(planck, wavenumbers) / (top - bottom) * 1e-4\n",
    "\n",
    "        \n",
    "# Open the original lookup table.\n",
    "ds = xr.open_dataset(ncpath)\n",
    "\n",
    "# Delete the variables we want to change. This allows to alter their shape.\n",
    "del ds['TemperaturePlanckValues']\n",
    "del ds['IntegratedPlanckFunction']\n",
    "del ds['IntegratedPlanckFunctionBand16']\n",
    "\n",
    "# Write new lookup table to the dataset (including fitting coordinates).\n",
    "ds['TemperaturePlanckValues'] = T_planck\n",
    "ds.set_coords('TemperaturePlanckValues')\n",
    "ds['IntegratedPlanckFunctionBand16'] = xr.DataArray(\n",
    "    new_lookup[-1, :],\n",
    "    dims=('TemperaturePlanckValues',),\n",
    ")\n",
    "ds['IntegratedPlanckFunction'] = xr.DataArray(\n",
    "    new_lookup, dims=('Band', 'TemperaturePlanckValues'),\n",
    ")\n",
    "\n",
    "# Delete this variable as it can't be stored with xarray.\n",
    "if 'AbsorberNames' in ds:\n",
    "    del ds['AbsorberNames']\n",
    "\n",
    "# Save the Dataset to a **new** netCDF4 file.\n",
    "# Do not use the original filename! This results in an empty file.\n",
    "ds.to_netcdf(ncpath + '_modified')"
   ]
  }
 ],
 "metadata": {
  "kernelspec": {
   "display_name": "Python 3",
   "language": "python",
   "name": "python3"
  },
  "language_info": {
   "codemirror_mode": {
    "name": "ipython",
    "version": 3
   },
   "file_extension": ".py",
   "mimetype": "text/x-python",
   "name": "python",
   "nbconvert_exporter": "python",
   "pygments_lexer": "ipython3",
   "version": "3.6.1"
  },
  "toc": {
   "toc_cell": false,
   "toc_number_sections": true,
   "toc_threshold": 6,
   "toc_window_display": false
  }
 },
 "nbformat": 4,
 "nbformat_minor": 2
}
