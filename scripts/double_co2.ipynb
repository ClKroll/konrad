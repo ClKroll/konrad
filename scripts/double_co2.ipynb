{
 "cells": [
  {
   "cell_type": "markdown",
   "metadata": {},
   "source": [
    "# Imports and function definitions"
   ]
  },
  {
   "cell_type": "code",
   "execution_count": null,
   "metadata": {
    "ExecuteTime": {
     "end_time": "2018-02-15T13:26:27.029603Z",
     "start_time": "2018-02-15T13:26:26.920210Z"
    }
   },
   "outputs": [],
   "source": [
    "%matplotlib inline\n",
    "import glob\n",
    "import re\n",
    "from itertools import cycle\n",
    "from functools import partial\n",
    "from os.path import basename, splitext, join\n",
    "\n",
    "import matplotlib.pyplot as plt\n",
    "import numpy as np\n",
    "import typhon.plots\n",
    "from matplotlib.legend_handler import HandlerTuple\n",
    "from netCDF4 import Dataset\n",
    "\n",
    "os.environ['PSRAD_PATH'] = '/scratch/uni/u237/users/lkluft/icon-aes/psrad/'\n",
    "import conrad\n",
    "\n",
    "\n",
    "plt.style.use(typhon.plots.styles('typhon'))\n",
    "\n",
    "\n",
    "def get_legend_label(filename, label=None, **kwargs):\n",
    "    \"\"\"Get label for legend entry.\"\"\"\n",
    "    try:\n",
    "        finfo = conrad.utils.extract_metadata(filename)\n",
    "        experiment = finfo.experiment\n",
    "    except:\n",
    "        experiment = ''\n",
    "    \n",
    "    if 'layer' in experiment:\n",
    "        label = f'{finfo.scale:>5} layers'\n",
    "    elif 'co2' in experiment or 'shift' in experiment:\n",
    "        label = rf'$\\sf CO_2 \\times {finfo.scale}$'\n",
    "    elif label is None:\n",
    "        label = basename(filename)\n",
    "    else:\n",
    "        label = basename(filename)\n",
    "    \n",
    "    return label\n",
    "    \n",
    "\n",
    "def scale_getter(filename):\n",
    "    \"\"\"Return the scale factor of a simulation.\"\"\"\n",
    "    return float(conrad.utils.extract_metadata(filename).scale)"
   ]
  },
  {
   "cell_type": "markdown",
   "metadata": {},
   "source": [
    "# Surface temperature and radiation budget"
   ]
  },
  {
   "cell_type": "code",
   "execution_count": null,
   "metadata": {
    "ExecuteTime": {
     "end_time": "2018-02-15T13:26:36.521325Z",
     "start_time": "2018-02-15T13:26:27.031133Z"
    }
   },
   "outputs": [],
   "source": [
    "ATMOSPHERE = 'rce-rrtmg'\n",
    "EXPERIMENT = 'scale-co2-coupledrh'\n",
    "SCALE = '*'\n",
    "EXTRA=''\n",
    "RESULT_DIR='results/'\n",
    "PLOT_DIR = 'plots/'\n",
    "    \n",
    "filepattern = conrad.utils.get_filepath(\n",
    "    atmosphere=ATMOSPHERE,\n",
    "    experiment=EXPERIMENT,\n",
    "    scale=SCALE,\n",
    "    extra=EXTRA,\n",
    "    result_dir=RESULT_DIR,\n",
    "    create_tree=False,\n",
    ")\n",
    "\n",
    "scenarios = sorted(glob.glob(filepattern), key=scale_getter, reverse=True)\n",
    "\n",
    "if len(scenarios) == 0:\n",
    "    raise FileNotFoundError('No input files found. Probably screwed glob pattern.')\n",
    "\n",
    "fig, [ax, ax2] = plt.subplots(nrows=2, sharex=True)\n",
    "for scenario in scenarios:\n",
    "    with Dataset(scenario) as data:\n",
    "        time = data.variables['time'][:] / 24  # time in days\n",
    "        Ts = data.variables['temperature'][:]\n",
    "        toa = data.variables['toa'][:]\n",
    "    \n",
    "    # Surface temperatures.\n",
    "    ax.plot(\n",
    "        time, Ts,\n",
    "        label=get_legend_label(scenario),\n",
    "        linewidth=3,\n",
    "    )\n",
    "    \n",
    "    # Radiation budget at top of the atmosphere.\n",
    "    ax2.plot(\n",
    "        time, toa,\n",
    "        linewidth=3,\n",
    "    )\n",
    "\n",
    "ax.grid('on')\n",
    "ax2.grid('on')\n",
    "ax.legend(loc='upper left', bbox_to_anchor=(1, 1))\n",
    "ax2.set_xlabel('Day')\n",
    "ax.set_xlim(left=1)\n",
    "ax.set_ylabel('$T_s$ [K]')\n",
    "ax2.set_ylabel('TOA [$Wm^{-2}$]')\n",
    "fig.savefig(join(PLOT_DIR, f'{ATMOSPHERE}_{EXPERIMENT}_t_surface.pdf'))"
   ]
  },
  {
   "cell_type": "markdown",
   "metadata": {
    "ExecuteTime": {
     "end_time": "2017-07-28T11:10:21.627881Z",
     "start_time": "2017-07-28T11:10:21.599323Z"
    }
   },
   "source": [
    "# Plot equilibrium temperature profiles"
   ]
  },
  {
   "cell_type": "markdown",
   "metadata": {
    "ExecuteTime": {
     "end_time": "2017-08-03T13:18:10.082490Z",
     "start_time": "2017-08-03T13:18:10.045586Z"
    }
   },
   "source": [
    "## Pressure coordinates"
   ]
  },
  {
   "cell_type": "code",
   "execution_count": null,
   "metadata": {
    "ExecuteTime": {
     "end_time": "2018-02-15T13:26:37.831459Z",
     "start_time": "2018-02-15T13:26:36.522741Z"
    }
   },
   "outputs": [],
   "source": [
    "fig, ax = plt.subplots(figsize=typhon.plots.figsize(8, portrait=True))\n",
    "\n",
    "# Equilibrium states for different CO2 scenarios\n",
    "for scenario in scenarios:\n",
    "    with Dataset(scenario) as data:\n",
    "        p = data.variables['plev'][:]\n",
    "        T = data.variables['T'][-1, :]\n",
    "        contop = data.variables['convective_top_plev'][-1]\n",
    "    \n",
    "    print(f'Surface temperature {T[0]} K for {scale_getter(scenario)}.')\n",
    "    l = typhon.plots.profile_p_log(\n",
    "        p, T,\n",
    "        label=get_legend_label(scenario),\n",
    "        linewidth=4 if scale_getter(scenario) == 1 else 2,\n",
    "        )\n",
    "    \n",
    "    # Mark top of convection (height in pressure).\n",
    "    ax.axhline(contop, linestyle='dotted', color=l[0].get_color(), alpha=0.3)\n",
    "    \n",
    "# ERA5 climatology\n",
    "clim = xml.load('/home/zmaw/u300509/lkluft/era5/results/t_climatology.xml')\n",
    "p = clim.grids[1]\n",
    "T = clim.get('temperature_mean', keep_dims=False)\n",
    "print(f'ERA5 surface temperature {T[-1]} K.')\n",
    "typhon.plots.profile_p_log(\n",
    "    p, T,\n",
    "    label='ERA5',\n",
    "    color='black',\n",
    "    linewidth=4,\n",
    ")\n",
    "\n",
    "ax.grid(True)\n",
    "ax.legend(loc='upper right')\n",
    "ax.set_xlabel('Temperature [K]')\n",
    "ax.set_ylim(top=p.min(), bottom=p.max())\n",
    "ax.set_xlim(left=180, right=310)\n",
    "\n",
    "fig.savefig(join(PLOT_DIR, f'{ATMOSPHERE}_{EXPERIMENT}_t_profile.pdf'))"
   ]
  },
  {
   "cell_type": "markdown",
   "metadata": {},
   "source": [
    "## Geopotential coordinates"
   ]
  },
  {
   "cell_type": "code",
   "execution_count": null,
   "metadata": {
    "ExecuteTime": {
     "end_time": "2018-02-15T13:26:50.353093Z",
     "start_time": "2018-02-15T13:26:37.833261Z"
    }
   },
   "outputs": [],
   "source": [
    "from scipy.interpolate import interp1d\n",
    "\n",
    "\n",
    "fig, ax = plt.subplots(figsize=typhon.plots.figsize(8, portrait=True))\n",
    "for scenario in scenarios:\n",
    "    with Dataset(scenario) as data:\n",
    "        z = np.array(data.variables['z'])[-1, :]\n",
    "        p = np.array(data.variables['plev'])[:]\n",
    "        T = data.variables['T'][-1, :]\n",
    "        contop = data.variables['convective_top_plev'][-1]\n",
    "        contop_z = interp1d(p, z)(contop)\n",
    "    \n",
    "    l = typhon.plots.profile_z(\n",
    "        z, T,\n",
    "        label=get_legend_label(scenario),\n",
    "        linewidth=4 if scale_getter(scenario) == 1 else 2,\n",
    "        )\n",
    "    \n",
    "    ax.axhline(contop_z, linestyle='dotted', color=l[0].get_color(), alpha=0.3)\n",
    "    \n",
    "ax.grid(True)\n",
    "ax.legend(loc='upper right')\n",
    "ax.set_xlabel('Temperature [K]')\n",
    "ax.set_ylim(bottom=z.min(), top=z.max())\n",
    "ax.set_xlim(left=180, right=310)\n",
    "\n",
    "fig.savefig(join(PLOT_DIR, f'{ATMOSPHERE}_{EXPERIMENT}_t_profile_z.pdf'))"
   ]
  },
  {
   "cell_type": "markdown",
   "metadata": {},
   "source": [
    "## Convective top height"
   ]
  },
  {
   "cell_type": "code",
   "execution_count": null,
   "metadata": {
    "ExecuteTime": {
     "end_time": "2018-02-15T13:26:52.083140Z",
     "start_time": "2018-02-15T13:26:50.354663Z"
    }
   },
   "outputs": [],
   "source": [
    "fig, ax = plt.subplots()\n",
    "\n",
    "for n, scenario in enumerate(scenarios):\n",
    "    with Dataset(scenario) as data:\n",
    "        plev = np.array(data.variables['plev'])[:]\n",
    "        time = np.array(data.variables['time'])[:] / 24\n",
    "        ctop = data.variables['convective_top_plev'][:]\n",
    "        \n",
    "    ax.plot(time, ctop / 1e2, color=f\"C{n}\", label=get_legend_label(scenario))\n",
    "    \n",
    "ax.invert_yaxis()\n",
    "ax.grid(True)\n",
    "ax.legend(bbox_to_anchor=(1, 1))\n",
    "ax.set_ylabel('Convective top [hPa]')\n",
    "ax.set_xlabel('Days')\n",
    "ax.set_xlim(left=0)\n",
    "\n",
    "fig.savefig(join(PLOT_DIR, f'{ATMOSPHERE}_{EXPERIMENT}_convective_top_plev.pdf'))\n",
    "\n",
    "fig, ax = plt.subplots()\n",
    "for n, scenario in enumerate(scenarios):\n",
    "    with Dataset(scenario) as data:\n",
    "        plev = np.array(data.variables['plev'])[:]\n",
    "        time = np.array(data.variables['time'])[:] / 24\n",
    "        ctop_T = data.variables['convective_top_temperature'][:]\n",
    "        \n",
    "    ax.plot(time, ctop_T, color=f\"C{n}\", label=get_legend_label(scenario))\n",
    "    \n",
    "ax.grid(True)\n",
    "ax.legend(bbox_to_anchor=(1, 1))\n",
    "ax.set_ylabel('Convective top temperature [K]')\n",
    "ax.set_xlabel('Days')\n",
    "ax.set_xlim(left=0)\n",
    "\n",
    "fig.savefig(join(PLOT_DIR, f'{ATMOSPHERE}_{EXPERIMENT}_convective_top_temperature.pdf'))"
   ]
  },
  {
   "cell_type": "markdown",
   "metadata": {},
   "source": [
    "# PHAT mechanism"
   ]
  },
  {
   "cell_type": "code",
   "execution_count": null,
   "metadata": {
    "ExecuteTime": {
     "end_time": "2018-02-15T13:26:53.207601Z",
     "start_time": "2018-02-15T13:26:52.084829Z"
    }
   },
   "outputs": [],
   "source": [
    "def plot_diagonal(ax=None, **kwargs):\n",
    "    \"\"\"Plot the bisectrix while preserving old axis limits.\"\"\"\n",
    "    if ax is None:\n",
    "        ax = plt.gca()\n",
    "    \n",
    "    xmin, xmax = ax.get_xlim()\n",
    "    l = ax.plot([xmin, xmax], [xmin, xmax], **kwargs)\n",
    "    ax.set_xbound(xmin, xmax)\n",
    "    \n",
    "    return l\n",
    "\n",
    "\n",
    "controlparams = [\n",
    "    # ('scale-co2-nopeak', 'o', 'lightgrey', 'No peak'),\n",
    "    # ('scale-co2-fixedrh', '^', 'skyblue', 'Decoupled troposphere'),\n",
    "    # ('scale-co2-coupledrh', 'D', 'sandybrown', 'Fully coupled'),\n",
    "    # ('scale-co2-fixedstrato', 'v', 'mediumseagreen', 'Decoupled stratosphere'),\n",
    "    ('scale-co2-nopeak', 'o', 'black', 'No peak'),\n",
    "    ('scale-co2-fixedrh', '^', 'grey', 'Decoupled troposphere'),\n",
    "    ('scale-co2-coupledrh', 'D', 'silver', 'Fully coupled'),\n",
    "    ('scale-co2-fixedstrato', 'v', 'whitesmoke', 'Decoupled stratosphere'),\n",
    "]\n",
    "\n",
    "\n",
    "fig, ax = plt.subplots(figsize=typhon.plots.figsize(8))\n",
    "# colors = cycle(f'C{i}' for i in range(4))\n",
    "handle_groups = []\n",
    "for experiment, marker, color, _ in controlparams:\n",
    "    filepattern = conrad.utils.get_filepath(\n",
    "        atmosphere='rce-rrtmg-nopeak' if 'nopeak' in experiment else 'rce-rrtmg',\n",
    "        experiment=experiment,\n",
    "        result_dir=RESULT_DIR,\n",
    "        create_tree=False,\n",
    "    )\n",
    "    \n",
    "    handles = []\n",
    "    # color = next(colors)\n",
    "    for scenario in sorted(glob.glob(filepattern), key=scale_getter, reverse=True):\n",
    "        with Dataset(scenario) as data:\n",
    "            t_surface = data.variables['temperature'][-1]\n",
    "            t_convective_top = data.variables['convective_top_temperature'][-1]\n",
    "\n",
    "            t_s_ref = data.variables['temperature'][0]\n",
    "            t_con_ref = data.variables['convective_top_temperature'][0]\n",
    "    \n",
    "        handle, = ax.plot(\n",
    "            t_surface - t_s_ref,\n",
    "            t_convective_top - t_con_ref,\n",
    "            marker=marker,\n",
    "            markeredgecolor='k',\n",
    "            markersize=12,\n",
    "            linestyle='none',\n",
    "            color=color,\n",
    "            label=get_legend_label(scenario),\n",
    "        )\n",
    "        handles.append(handle)\n",
    "    handle_groups.append(handles)\n",
    "    \n",
    "ax.grid(True)\n",
    "ax.axhline(0, color='#b0b0b0', linewidth=1.5, zorder=-10)\n",
    "ax.axvline(0, color='#b0b0b0', linewidth=1.5, zorder=-10)\n",
    "plot_diagonal(ls='--', color='#b0b0b0', linewidth=0.8, zorder=-10)\n",
    "\n",
    "ax.legend(\n",
    "    [tuple(g)[0] for g in handle_groups],\n",
    "    [p[3] for p in controlparams],\n",
    "    handler_map={tuple: HandlerTuple(ndivide=None)},\n",
    "    fontsize='x-small',\n",
    ")\n",
    "ax.set_aspect('equal')\n",
    "ax.set_xticks(np.arange(-2, 9, 2))\n",
    "ax.set_xlabel(r'$\\Delta\\sf T_{surface} [K]$')\n",
    "ax.set_ylabel('$\\Delta\\sf T_{convection}$ [K]')\n",
    "\n",
    "fig.savefig(join(PLOT_DIR, f'phat_mechanism2.pdf'))"
   ]
  },
  {
   "cell_type": "markdown",
   "metadata": {},
   "source": [
    "# Gregory plot"
   ]
  },
  {
   "cell_type": "code",
   "execution_count": null,
   "metadata": {
    "ExecuteTime": {
     "end_time": "2018-02-15T13:26:54.808479Z",
     "start_time": "2018-02-15T13:26:53.209204Z"
    }
   },
   "outputs": [],
   "source": [
    "fig, ax = plt.subplots(figsize=typhon.plots.figsize(8))\n",
    "for scenario in scenarios:\n",
    "    with Dataset(scenario) as dataset:\n",
    "        T_sfc = dataset.variables['temperature'][:]\n",
    "        toa = dataset.variables['toa'][:]\n",
    "    \n",
    "    ax.plot(\n",
    "        T_sfc - T_sfc[0], toa,\n",
    "        label=get_legend_label(scenario),\n",
    "        marker='.',\n",
    "        linestyle='none',\n",
    "        rasterized=True,\n",
    "    )\n",
    "    \n",
    "    slope, offset = np.polyfit(T_sfc - T_sfc[0], toa, 1)\n",
    "    ecs = T_sfc[-1] - T_sfc[0]\n",
    "    print(get_legend_label(scenario), f'ECS: {ecs:.2f} K', f'Feedback: {-1/slope:.3f} K/(W/m^2)')\n",
    "\n",
    "ax.grid(True)\n",
    "ax.axhline(0, color='#b0b0b0', linewidth=1.5, zorder=-10)\n",
    "ax.axvline(0, color='#b0b0b0', linewidth=1.5, zorder=-10)\n",
    "\n",
    "ax.legend(loc='upper left', fontsize='x-small')\n",
    "ax.set_xlabel('Surface temperature change [K]')\n",
    "ax.set_xlim(-3, 8)\n",
    "ax.set_xticks(np.arange(np.floor(ax.get_xlim()[0]), np.ceil(ax.get_xlim()[1])))\n",
    "ax.set_ylabel(r'TOA imbalance [$\\sf W/m^2$]')\n",
    "ax.set_ylim(-6, 16)\n",
    "ax.set_yticks(np.arange(np.floor(ax.get_ylim()[0]), np.ceil(ax.get_ylim()[1]), 3))\n",
    "\n",
    "fig.savefig(join(PLOT_DIR, f'{ATMOSPHERE}_{EXPERIMENT}_gregory.pdf'), dpi=300)"
   ]
  },
  {
   "cell_type": "markdown",
   "metadata": {},
   "source": [
    "# Plot changes in water vapor mixing ratios"
   ]
  },
  {
   "cell_type": "code",
   "execution_count": null,
   "metadata": {
    "ExecuteTime": {
     "end_time": "2018-02-15T13:26:59.246536Z",
     "start_time": "2018-02-15T13:26:54.810238Z"
    }
   },
   "outputs": [],
   "source": [
    "scenario = scenarios[0]\n",
    "\n",
    "fig, ax = plt.subplots()\n",
    "fig.suptitle(get_legend_label(scenario))\n",
    "with Dataset(scenario) as data:\n",
    "    time = data.variables['time'][:] / 24\n",
    "    q = data.variables['H2O'][:]\n",
    "    p = data.variables['plev'][:]\n",
    "    T = data.variables['T'][:]\n",
    "    \n",
    "# Calculate relative humidity.\n",
    "RH = 100 * typhon.atmosphere.relative_humidity(q, p, T)\n",
    "\n",
    "sm = ax.pcolormesh(\n",
    "    time, p, RH.T,\n",
    "    cmap=plt.get_cmap('density', 10),\n",
    "    rasterized=True,\n",
    "    vmin=0,\n",
    "    vmax=100,\n",
    ")\n",
    "cb = fig.colorbar(sm, label='Relative humidity [%]')\n",
    "cb.set_ticks(np.arange(0, 101, 10))\n",
    "ax.invert_yaxis()\n",
    "ax.set_yscale('log')\n",
    "ax.set_ylabel('Pressure [hPa]')\n",
    "ax.set_ylim(p.max(), 50e2)\n",
    "ax.set_xlabel('Days')\n",
    "ax.yaxis.set_major_formatter(typhon.plots.HectoPascalLogFormatter())\n",
    "ax.yaxis.set_minor_formatter(typhon.plots.HectoPascalLogFormatter())\n",
    "\n",
    "fig.savefig(join(PLOT_DIR, f'{ATMOSPHERE}_{EXPERIMENT}_rh_profile.pdf'), dpi=300)"
   ]
  },
  {
   "cell_type": "markdown",
   "metadata": {
    "ExecuteTime": {
     "end_time": "2017-08-03T12:23:31.130628Z",
     "start_time": "2017-08-03T12:23:31.103450Z"
    }
   },
   "source": [
    "# Layer thickness"
   ]
  },
  {
   "cell_type": "code",
   "execution_count": null,
   "metadata": {

    "scrolled": false
   },
   "outputs": [],
   "source": [
    "fig2, ax2 = plt.subplots()\n",
    "for scenario in scenarios:\n",
    "    with Dataset(scenario) as dataset:\n",
    "        plev = dataset.variables['plev'][:]\n",
    "        time = dataset.variables['time'][:] / 24\n",
    "        z_field = dataset.variables['z'][:]\n",
    "        \n",
    "    thickness = np.diff(z_field, axis=1)\n",
    "\n",
    "    fig, ax = plt.subplots(figsize=(10, 6))\n",
    "    change_in_thickness = thickness - thickness[0, :]\n",
    "    rel_change_in_thickness = (thickness - thickness[0, :]) / thickness[0, :] * 100\n",
    "    sm = ax.pcolormesh(time, plev[:-1], rel_change_in_thickness.T[:, :-1],\n",
    "                       cmap='difference', rasterized=True, vmin=-15, vmax=5)\n",
    "    ax.invert_yaxis()\n",
    "    ax.set_yscale('log')\n",
    "    ax.set_ylabel('Pressure [hPa]')\n",
    "    ax.set_ylim(plev.max(), plev[:-1].min())\n",
    "    ax.set_xlabel('Days')\n",
    "    ax.set_xlim(left=0)\n",
    "    ax.yaxis.set_major_formatter(typhon.plots.HectoPascalLogFormatter())\n",
    "    ax.yaxis.set_minor_formatter(typhon.plots.HectoPascalLogFormatter())\n",
    "    cb = fig.colorbar(sm, label='Change in layer thickness [%]')\n",
    "    cb.set_clim(-15, 15)\n",
    "    typhon.plots.center_colorbar(cb)\n",
    "    ax.set_title(get_legend_label(scenario))\n",
    "\n",
    "    ax2.plot(time, np.sum(change_in_thickness.T, axis=0) / 1e3,\n",
    "             linewidth=3,\n",
    "             label=get_legend_label(scenario))\n",
    "    \n",
    "ax2.set_title(get_legend_label(scenario))\n",
    "ax2.set_ylabel('Change in atmosphere thickness [km]')\n",
    "ax2.set_xlabel('Days')\n",
    "ax2.set_xlim(left=0)\n",
    "ax2.grid(True)\n",
    "ax2.legend(loc='upper left', bbox_to_anchor=(1, 1))\n",
    "\n",
    "# fig2.savefig(join(PLOT_DIR, f'{ATMOSPHERE}_{EXPERIMENT}_atmosphere_thickness.pdf'))"
   ]
  }
 ],
 "metadata": {
  "kernelspec": {
   "display_name": "Python 3",
   "language": "python",
   "name": "python3"
  },
  "language_info": {
   "codemirror_mode": {
    "name": "ipython",
    "version": 3
   },
   "file_extension": ".py",
   "mimetype": "text/x-python",
   "name": "python",
   "nbconvert_exporter": "python",
   "pygments_lexer": "ipython3",
   "version": "3.6.3"
  },
  "toc": {
   "toc_cell": false,
   "toc_number_sections": true,
   "toc_threshold": 6,
   "toc_window_display": false
  }
 },
 "nbformat": 4,
 "nbformat_minor": 2
}
