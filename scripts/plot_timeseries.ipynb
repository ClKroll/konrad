{
 "cells": [
  {
   "cell_type": "code",
   "execution_count": null,
   "metadata": {

    "collapsed": true,
    "deletable": true,
    "editable": true
   },
   "outputs": [],
   "source": [
    "%matplotlib inline\n",
    "import matplotlib.pyplot as plt\n",
    "from matplotlib.ticker import FuncFormatter\n",
    "import numpy as np\n",
    "import typhon.plots\n",
    "from netCDF4 import Dataset\n",
    "from typhon.utils import image2mpeg\n",
    "\n",
    "\n",
    "plt.style.use(typhon.plots.styles('typhon'))\n",
    "\n",
    "fascod_seasons = [\n",
    "    'tropical',\n",
    "    'midlatitude-summer',\n",
    "    'midlatitude-winter',\n",
    "    'subarctic-summer',\n",
    "    'subarctic-winter',\n",
    "]"
   ]
  },
  {
   "cell_type": "markdown",
   "metadata": {
    "deletable": true,
    "editable": true
   },
   "source": [
    "# Simple timeseries"
   ]
  },
  {
   "cell_type": "code",
   "execution_count": null,
   "metadata": {
    "collapsed": false,
    "deletable": true,
    "editable": true,
    "scrolled": false
   },
   "outputs": [],
   "source": [
    "vmin = 180\n",
    "vmax = 340\n",
    "\n",
    "import glob\n",
    "\n",
    "\n",
    "for season in fascod_seasons:\n",
    "    data = Dataset('results/{}.nc'.format(season))\n",
    "\n",
    "    fig, ax = plt.subplots()\n",
    "    sm = ax.pcolormesh(\n",
    "        data.variables['time'][:] / 24,\n",
    "        data.variables['plev'][:],\n",
    "        data.variables['T'][:].T,\n",
    "        cmap=plt.get_cmap('temperature', 20),\n",
    "        rasterized=True,\n",
    "        vmin=vmin,\n",
    "        vmax=vmax,\n",
    "    )\n",
    "    fig.colorbar(sm, label='Temperature [K]')\n",
    "    ax.invert_yaxis()\n",
    "    ax.set_yscale('log')\n",
    "    ax.set_ylim(1100e2, 0.1e2)\n",
    "    ax.yaxis.set_major_formatter(typhon.plots.fmt_hectopascal)\n",
    "    ax.set_title('FASCOD {}'.format(season))\n",
    "    ax.set_xlabel('Days')\n",
    "    ax.set_ylabel('Pressure [hPa]')\n",
    "    fig.savefig('plots/{}.pdf'.format(season))"
   ]
  },
  {
   "cell_type": "markdown",
   "metadata": {
    "deletable": true,
    "editable": true
   },
   "source": [
    "# Timeseries animation"
   ]
  },
  {
   "cell_type": "code",
   "execution_count": null,
   "metadata": {
    "collapsed": false,
    "deletable": true,
    "editable": true,
    "scrolled": false
   },
   "outputs": [],
   "source": [
    "for season in fascod_seasons:\n",
    "    data = Dataset('results/{}.nc'.format(season))\n",
    "    time = data.variables['time'][:] / 24\n",
    "    p = data.variables['plev'][:]\n",
    "    T = data.variables['T'][:].T\n",
    "    \n",
    "    for t in range(1, time.size, 5):\n",
    "        fig, [ax2, ax1] = plt.subplots(1, 2, sharey=True, figsize=(16, 8), gridspec_kw={'width_ratios':[1, 3]})\n",
    "        sm = ax1.pcolormesh(\n",
    "            time[0:t+1],\n",
    "            p,\n",
    "            T[:, 0:t+1],\n",
    "            cmap=plt.get_cmap('temperature', 10),\n",
    "            rasterized=True,\n",
    "            vmin=vmin,\n",
    "            vmax=vmax,\n",
    "        )\n",
    "        fig.colorbar(sm, label='Temperature [K]', ax=ax1)\n",
    "        sm = ax1.pcolormesh(\n",
    "            time[t:],\n",
    "            p,\n",
    "            T[:, t:],\n",
    "            cmap=plt.get_cmap('Greys_r', 10),\n",
    "            rasterized=True,\n",
    "            vmin=vmin,\n",
    "            vmax=vmax,\n",
    "        )\n",
    "        ax1.axvline(time[t])  # vertical line to highlight current timestep.\n",
    "        ax1.invert_yaxis()\n",
    "        ax1.set_ylim(1100e2, 10)\n",
    "        ax1.yaxis.set_major_formatter(typhon.plots.fmt_hectopascal)\n",
    "        fig.suptitle('FASCOD {}'.format(season))\n",
    "        ax1.set_xlabel('Days')\n",
    "\n",
    "        # temperature sounding\n",
    "        typhon.plots.profile_p_log(p, T[:, t], ax=ax2)\n",
    "        ax2.set_ylim(1100e2, 10)\n",
    "        ax2.set_xlim(vmin, vmax)\n",
    "        ax2.set_xlabel('Temperature [K]')\n",
    "        fig.savefig('plots/animation/{}_{:04d}.png'.format(season, t), dpi=300)\n",
    "        plt.close(fig)\n",
    "    \n",
    "    image2mpeg(\n",
    "        glob='plots/animation/{}_*.png'.format(season),\n",
    "        outfile='plots/animation/{}.mp4'.format(season),\n",
    "    )"
   ]
  },
  {
   "cell_type": "markdown",
   "metadata": {},
   "source": [
    "# Convective adjustment"
   ]
  },
  {
   "cell_type": "code",
   "execution_count": null,
   "metadata": {

    "collapsed": false,
    "scrolled": false
   },
   "outputs": [],
   "source": [
    "scenarios = ['test-radiative', 'test-convective']\n",
    "data = {s: Dataset('results/{}.nc'.format(s)) for s in scenarios}\n",
    "\n",
    "for t in range(0, 750, 5):\n",
    "    fig, [ax, ax2] = plt.subplots(ncols=2, sharey=True, figsize=(8, 10))\n",
    "    fig.subplots_adjust(wspace=0)\n",
    "    for scenario in scenarios:\n",
    "        typhon.plots.profile_p_log(\n",
    "            data[scenario].variables['plev'][:],\n",
    "            data[scenario].variables['T'][t, :],\n",
    "            label=scenario,\n",
    "            ax=ax,\n",
    "        )\n",
    "        ax.set_xlim(180, 320)\n",
    "        ax.set_ylim(1100e2, 0.1e2)\n",
    "        ax.grid('on', which='both', linestyle='solid', alpha=0.3)\n",
    "        ax.legend(loc='upper right')\n",
    "        fig.suptitle('FASCOD {}'.format(scenario))\n",
    "        ax.set_xlabel('Temperature [K]')\n",
    "        ax.set_ylabel('Pressure [hPa]')\n",
    "        \n",
    "        typhon.plots.profile_p_log(\n",
    "            data[scenario].variables['plev'][:],\n",
    "            data[scenario].variables['net_htngrt'][t, :],\n",
    "            label=scenario,\n",
    "            ax=ax2,\n",
    "        )\n",
    "        ax2.set_xlim(-5, 5)\n",
    "        ax2.grid('on', which='both', linestyle='solid', alpha=0.3)\n",
    "        # ax.legend(loc='upper right')\n",
    "        ax2.set_xlabel('Net heatingrate [K/day]')\n",
    "    fig.savefig('plots/convection/iter_{:04d}.png'.format(t))\n",
    "    plt.close(fig)\n",
    "    \n",
    "image2mpeg(\n",
    "    glob='plots/convection/iter_*.png',\n",
    "    outfile='plots/convection/convection.mp4',\n",
    ")"
   ]
  }
 ],
 "metadata": {
  "kernelspec": {
   "display_name": "Python 3",
   "language": "python",
   "name": "python3"
  },
  "language_info": {
   "codemirror_mode": {
    "name": "ipython",
    "version": 3
   },
   "file_extension": ".py",
   "mimetype": "text/x-python",
   "name": "python",
   "nbconvert_exporter": "python",
   "pygments_lexer": "ipython3",
   "version": "3.6.1"
  },
  "toc": {
   "toc_cell": false,
   "toc_number_sections": true,
   "toc_threshold": 6,
   "toc_window_display": false
  }
 },
 "nbformat": 4,
 "nbformat_minor": 2
}
