{
 "cells": [
  {
   "cell_type": "code",
   "execution_count": null,
   "metadata": {},
   "outputs": [],
   "source": [
    "%matplotlib inline\n",
    "import konrad\n",
    "import numpy as np\n",
    "import xarray as xr\n",
    "from typhon.plots import profile_p_log\n",
    "\n",
    "# Load a standard atmosphere.\n",
    "atmosphere = konrad.atmosphere.Atmosphere.from_netcdf(\n",
    "    ncfile='data/tropical-standard.nc',\n",
    ")\n",
    "\n",
    "# Atmosphere composition according to RCEMIP.\n",
    "atmosphere.tracegases_rcemip()\n",
    "\n",
    "fig, ax = plt.subplots()\n",
    "profile_p_log(atmosphere['plev'], atmosphere['T'][-1, :], label='Initial state')\n",
    "\n",
    "# Frame the setup for the radiative-convective equilibrium simulation.\n",
    "rce = konrad.RCE(\n",
    "    atmosphere,\n",
    "    radiation=konrad.radiation.RRTMG(),  # Use RRTMG radiation scheme.\n",
    "    timestep=0.1,  # Set timestep in days (12-hour timestep).\n",
    "    max_iterations=712,  # Set maximum number of iterations (2 years).\n",
    ")\n",
    "\n",
    "rce.run()  # Start the simulation.\n",
    "\n",
    "profile_p_log(atmosphere['plev'], atmosphere['T'][-1, :], label='RCE')\n",
    "ax.legend()"
   ]
  }
 ],
 "metadata": {
  "kernelspec": {
   "display_name": "Python 3",
   "language": "python",
   "name": "python3"
  },
  "language_info": {
   "codemirror_mode": {
    "name": "ipython",
    "version": 3
   },
   "file_extension": ".py",
   "mimetype": "text/x-python",
   "name": "python",
   "nbconvert_exporter": "python",
   "pygments_lexer": "ipython3",
   "version": "3.6.3"
  }
 },
 "nbformat": 4,
 "nbformat_minor": 2
}
